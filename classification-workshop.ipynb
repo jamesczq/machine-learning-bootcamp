{
 "cells": [
  {
   "cell_type": "markdown",
   "metadata": {},
   "source": [
    "# Machine Learning Training/Workshop\n",
    "### 06/29/2022\n",
    "\n",
    "This workshop focuses on classification, arguably one of the most important machine learning tasks. \n",
    "\n",
    "This workshop illustrates a whole machine learning workflow purpose, emphasizing key concepts and principles that carry over to all types of ML workL, such as:\n",
    "- Feature engineering\n",
    "- Fundamental evaluation metrics (precision, recall, F1, TPR, FPR, AUC ROC)\n",
    "- Cross Validation\n",
    "\n",
    "Contents:\n",
    "1. Data exploration/cleaning\n",
    "2. Feature Engineering\n",
    "3. Model training\n",
    "4. Model evaluation\n",
    "5. Cross validation"
   ]
  },
  {
   "cell_type": "markdown",
   "metadata": {},
   "source": [
    "# 1. Look at data\n",
    "- Inconsistent data types and values\n",
    "- Missing values\n",
    "- Cleaning"
   ]
  },
  {
   "cell_type": "code",
   "execution_count": 1,
   "metadata": {},
   "outputs": [],
   "source": [
    "import numpy as np \n",
    "import pandas as pd "
   ]
  },
  {
   "cell_type": "code",
   "execution_count": 2,
   "metadata": {},
   "outputs": [
    {
     "data": {
      "text/plain": [
       "7043"
      ]
     },
     "execution_count": 2,
     "metadata": {},
     "output_type": "execute_result"
    }
   ],
   "source": [
    "csv = \"data/telco-customer-churn-data.csv\"\n",
    "\n",
    "df = pd.read_csv(csv)\n",
    "len(df)"
   ]
  },
  {
   "cell_type": "code",
   "execution_count": 3,
   "metadata": {},
   "outputs": [
    {
     "data": {
      "text/html": [
       "<div>\n",
       "<style scoped>\n",
       "    .dataframe tbody tr th:only-of-type {\n",
       "        vertical-align: middle;\n",
       "    }\n",
       "\n",
       "    .dataframe tbody tr th {\n",
       "        vertical-align: top;\n",
       "    }\n",
       "\n",
       "    .dataframe thead th {\n",
       "        text-align: right;\n",
       "    }\n",
       "</style>\n",
       "<table border=\"1\" class=\"dataframe\">\n",
       "  <thead>\n",
       "    <tr style=\"text-align: right;\">\n",
       "      <th></th>\n",
       "      <th>0</th>\n",
       "      <th>1</th>\n",
       "      <th>2</th>\n",
       "      <th>3</th>\n",
       "      <th>4</th>\n",
       "    </tr>\n",
       "  </thead>\n",
       "  <tbody>\n",
       "    <tr>\n",
       "      <th>customerID</th>\n",
       "      <td>7590-VHVEG</td>\n",
       "      <td>5575-GNVDE</td>\n",
       "      <td>3668-QPYBK</td>\n",
       "      <td>7795-CFOCW</td>\n",
       "      <td>9237-HQITU</td>\n",
       "    </tr>\n",
       "    <tr>\n",
       "      <th>gender</th>\n",
       "      <td>Female</td>\n",
       "      <td>Male</td>\n",
       "      <td>Male</td>\n",
       "      <td>Male</td>\n",
       "      <td>Female</td>\n",
       "    </tr>\n",
       "    <tr>\n",
       "      <th>SeniorCitizen</th>\n",
       "      <td>0</td>\n",
       "      <td>0</td>\n",
       "      <td>0</td>\n",
       "      <td>0</td>\n",
       "      <td>0</td>\n",
       "    </tr>\n",
       "    <tr>\n",
       "      <th>Partner</th>\n",
       "      <td>Yes</td>\n",
       "      <td>No</td>\n",
       "      <td>No</td>\n",
       "      <td>No</td>\n",
       "      <td>No</td>\n",
       "    </tr>\n",
       "    <tr>\n",
       "      <th>Dependents</th>\n",
       "      <td>No</td>\n",
       "      <td>No</td>\n",
       "      <td>No</td>\n",
       "      <td>No</td>\n",
       "      <td>No</td>\n",
       "    </tr>\n",
       "    <tr>\n",
       "      <th>tenure</th>\n",
       "      <td>1</td>\n",
       "      <td>34</td>\n",
       "      <td>2</td>\n",
       "      <td>45</td>\n",
       "      <td>2</td>\n",
       "    </tr>\n",
       "    <tr>\n",
       "      <th>PhoneService</th>\n",
       "      <td>No</td>\n",
       "      <td>Yes</td>\n",
       "      <td>Yes</td>\n",
       "      <td>No</td>\n",
       "      <td>Yes</td>\n",
       "    </tr>\n",
       "    <tr>\n",
       "      <th>MultipleLines</th>\n",
       "      <td>No phone service</td>\n",
       "      <td>No</td>\n",
       "      <td>No</td>\n",
       "      <td>No phone service</td>\n",
       "      <td>No</td>\n",
       "    </tr>\n",
       "    <tr>\n",
       "      <th>InternetService</th>\n",
       "      <td>DSL</td>\n",
       "      <td>DSL</td>\n",
       "      <td>DSL</td>\n",
       "      <td>DSL</td>\n",
       "      <td>Fiber optic</td>\n",
       "    </tr>\n",
       "    <tr>\n",
       "      <th>OnlineSecurity</th>\n",
       "      <td>No</td>\n",
       "      <td>Yes</td>\n",
       "      <td>Yes</td>\n",
       "      <td>Yes</td>\n",
       "      <td>No</td>\n",
       "    </tr>\n",
       "    <tr>\n",
       "      <th>OnlineBackup</th>\n",
       "      <td>Yes</td>\n",
       "      <td>No</td>\n",
       "      <td>Yes</td>\n",
       "      <td>No</td>\n",
       "      <td>No</td>\n",
       "    </tr>\n",
       "    <tr>\n",
       "      <th>DeviceProtection</th>\n",
       "      <td>No</td>\n",
       "      <td>Yes</td>\n",
       "      <td>No</td>\n",
       "      <td>Yes</td>\n",
       "      <td>No</td>\n",
       "    </tr>\n",
       "    <tr>\n",
       "      <th>TechSupport</th>\n",
       "      <td>No</td>\n",
       "      <td>No</td>\n",
       "      <td>No</td>\n",
       "      <td>Yes</td>\n",
       "      <td>No</td>\n",
       "    </tr>\n",
       "    <tr>\n",
       "      <th>StreamingTV</th>\n",
       "      <td>No</td>\n",
       "      <td>No</td>\n",
       "      <td>No</td>\n",
       "      <td>No</td>\n",
       "      <td>No</td>\n",
       "    </tr>\n",
       "    <tr>\n",
       "      <th>StreamingMovies</th>\n",
       "      <td>No</td>\n",
       "      <td>No</td>\n",
       "      <td>No</td>\n",
       "      <td>No</td>\n",
       "      <td>No</td>\n",
       "    </tr>\n",
       "    <tr>\n",
       "      <th>Contract</th>\n",
       "      <td>Month-to-month</td>\n",
       "      <td>One year</td>\n",
       "      <td>Month-to-month</td>\n",
       "      <td>One year</td>\n",
       "      <td>Month-to-month</td>\n",
       "    </tr>\n",
       "    <tr>\n",
       "      <th>PaperlessBilling</th>\n",
       "      <td>Yes</td>\n",
       "      <td>No</td>\n",
       "      <td>Yes</td>\n",
       "      <td>No</td>\n",
       "      <td>Yes</td>\n",
       "    </tr>\n",
       "    <tr>\n",
       "      <th>PaymentMethod</th>\n",
       "      <td>Electronic check</td>\n",
       "      <td>Mailed check</td>\n",
       "      <td>Mailed check</td>\n",
       "      <td>Bank transfer (automatic)</td>\n",
       "      <td>Electronic check</td>\n",
       "    </tr>\n",
       "    <tr>\n",
       "      <th>MonthlyCharges</th>\n",
       "      <td>29.85</td>\n",
       "      <td>56.95</td>\n",
       "      <td>53.85</td>\n",
       "      <td>42.3</td>\n",
       "      <td>70.7</td>\n",
       "    </tr>\n",
       "    <tr>\n",
       "      <th>TotalCharges</th>\n",
       "      <td>29.85</td>\n",
       "      <td>1889.5</td>\n",
       "      <td>108.15</td>\n",
       "      <td>1840.75</td>\n",
       "      <td>151.65</td>\n",
       "    </tr>\n",
       "    <tr>\n",
       "      <th>Churn</th>\n",
       "      <td>No</td>\n",
       "      <td>No</td>\n",
       "      <td>Yes</td>\n",
       "      <td>No</td>\n",
       "      <td>Yes</td>\n",
       "    </tr>\n",
       "  </tbody>\n",
       "</table>\n",
       "</div>"
      ],
      "text/plain": [
       "                                 0             1               2  \\\n",
       "customerID              7590-VHVEG    5575-GNVDE      3668-QPYBK   \n",
       "gender                      Female          Male            Male   \n",
       "SeniorCitizen                    0             0               0   \n",
       "Partner                        Yes            No              No   \n",
       "Dependents                      No            No              No   \n",
       "tenure                           1            34               2   \n",
       "PhoneService                    No           Yes             Yes   \n",
       "MultipleLines     No phone service            No              No   \n",
       "InternetService                DSL           DSL             DSL   \n",
       "OnlineSecurity                  No           Yes             Yes   \n",
       "OnlineBackup                   Yes            No             Yes   \n",
       "DeviceProtection                No           Yes              No   \n",
       "TechSupport                     No            No              No   \n",
       "StreamingTV                     No            No              No   \n",
       "StreamingMovies                 No            No              No   \n",
       "Contract            Month-to-month      One year  Month-to-month   \n",
       "PaperlessBilling               Yes            No             Yes   \n",
       "PaymentMethod     Electronic check  Mailed check    Mailed check   \n",
       "MonthlyCharges               29.85         56.95           53.85   \n",
       "TotalCharges                 29.85        1889.5          108.15   \n",
       "Churn                           No            No             Yes   \n",
       "\n",
       "                                          3                 4  \n",
       "customerID                       7795-CFOCW        9237-HQITU  \n",
       "gender                                 Male            Female  \n",
       "SeniorCitizen                             0                 0  \n",
       "Partner                                  No                No  \n",
       "Dependents                               No                No  \n",
       "tenure                                   45                 2  \n",
       "PhoneService                             No               Yes  \n",
       "MultipleLines              No phone service                No  \n",
       "InternetService                         DSL       Fiber optic  \n",
       "OnlineSecurity                          Yes                No  \n",
       "OnlineBackup                             No                No  \n",
       "DeviceProtection                        Yes                No  \n",
       "TechSupport                             Yes                No  \n",
       "StreamingTV                              No                No  \n",
       "StreamingMovies                          No                No  \n",
       "Contract                           One year    Month-to-month  \n",
       "PaperlessBilling                         No               Yes  \n",
       "PaymentMethod     Bank transfer (automatic)  Electronic check  \n",
       "MonthlyCharges                         42.3              70.7  \n",
       "TotalCharges                        1840.75            151.65  \n",
       "Churn                                    No               Yes  "
      ]
     },
     "execution_count": 3,
     "metadata": {},
     "output_type": "execute_result"
    }
   ],
   "source": [
    "df.head().T\n",
    "# df.sample(5)"
   ]
  },
  {
   "cell_type": "code",
   "execution_count": 4,
   "metadata": {},
   "outputs": [
    {
     "data": {
      "text/plain": [
       "customerID           object\n",
       "gender               object\n",
       "SeniorCitizen         int64\n",
       "Partner              object\n",
       "Dependents           object\n",
       "tenure                int64\n",
       "PhoneService         object\n",
       "MultipleLines        object\n",
       "InternetService      object\n",
       "OnlineSecurity       object\n",
       "OnlineBackup         object\n",
       "DeviceProtection     object\n",
       "TechSupport          object\n",
       "StreamingTV          object\n",
       "StreamingMovies      object\n",
       "Contract             object\n",
       "PaperlessBilling     object\n",
       "PaymentMethod        object\n",
       "MonthlyCharges      float64\n",
       "TotalCharges         object\n",
       "Churn                object\n",
       "dtype: object"
      ]
     },
     "execution_count": 4,
     "metadata": {},
     "output_type": "execute_result"
    }
   ],
   "source": [
    "df.dtypes"
   ]
  },
  {
   "cell_type": "markdown",
   "metadata": {},
   "source": [
    "## Data cleaning (1)\n",
    "\n",
    "- Column \"TotalCharges\" should be of numeric type, yet its type is \"Object\".\n",
    "- This is because Column \"TotalCharges\" has missing values stored as \" \", which are (incorrectly) interpreted as empty strings. \n",
    "    - The whole column is type-casted to string (unintended!), even though most of its values are floats.\n",
    "- We fix this as follows. Also, fill in the missing values with 0.\n",
    "    - Can also fill in with mean, median, etc. of this column."
   ]
  },
  {
   "cell_type": "code",
   "execution_count": 5,
   "metadata": {},
   "outputs": [
    {
     "data": {
      "text/html": [
       "<div>\n",
       "<style scoped>\n",
       "    .dataframe tbody tr th:only-of-type {\n",
       "        vertical-align: middle;\n",
       "    }\n",
       "\n",
       "    .dataframe tbody tr th {\n",
       "        vertical-align: top;\n",
       "    }\n",
       "\n",
       "    .dataframe thead th {\n",
       "        text-align: right;\n",
       "    }\n",
       "</style>\n",
       "<table border=\"1\" class=\"dataframe\">\n",
       "  <thead>\n",
       "    <tr style=\"text-align: right;\">\n",
       "      <th></th>\n",
       "      <th>customerID</th>\n",
       "      <th>TotalCharges</th>\n",
       "    </tr>\n",
       "  </thead>\n",
       "  <tbody>\n",
       "    <tr>\n",
       "      <th>488</th>\n",
       "      <td>4472-LVYGI</td>\n",
       "      <td></td>\n",
       "    </tr>\n",
       "    <tr>\n",
       "      <th>753</th>\n",
       "      <td>3115-CZMZD</td>\n",
       "      <td></td>\n",
       "    </tr>\n",
       "    <tr>\n",
       "      <th>936</th>\n",
       "      <td>5709-LVOEQ</td>\n",
       "      <td></td>\n",
       "    </tr>\n",
       "    <tr>\n",
       "      <th>1082</th>\n",
       "      <td>4367-NUYAO</td>\n",
       "      <td></td>\n",
       "    </tr>\n",
       "    <tr>\n",
       "      <th>1340</th>\n",
       "      <td>1371-DWPAZ</td>\n",
       "      <td></td>\n",
       "    </tr>\n",
       "    <tr>\n",
       "      <th>3331</th>\n",
       "      <td>7644-OMVMY</td>\n",
       "      <td></td>\n",
       "    </tr>\n",
       "    <tr>\n",
       "      <th>3826</th>\n",
       "      <td>3213-VVOLG</td>\n",
       "      <td></td>\n",
       "    </tr>\n",
       "    <tr>\n",
       "      <th>4380</th>\n",
       "      <td>2520-SGTTA</td>\n",
       "      <td></td>\n",
       "    </tr>\n",
       "    <tr>\n",
       "      <th>5218</th>\n",
       "      <td>2923-ARZLG</td>\n",
       "      <td></td>\n",
       "    </tr>\n",
       "    <tr>\n",
       "      <th>6670</th>\n",
       "      <td>4075-WKNIU</td>\n",
       "      <td></td>\n",
       "    </tr>\n",
       "    <tr>\n",
       "      <th>6754</th>\n",
       "      <td>2775-SEFEE</td>\n",
       "      <td></td>\n",
       "    </tr>\n",
       "  </tbody>\n",
       "</table>\n",
       "</div>"
      ],
      "text/plain": [
       "      customerID TotalCharges\n",
       "488   4472-LVYGI             \n",
       "753   3115-CZMZD             \n",
       "936   5709-LVOEQ             \n",
       "1082  4367-NUYAO             \n",
       "1340  1371-DWPAZ             \n",
       "3331  7644-OMVMY             \n",
       "3826  3213-VVOLG             \n",
       "4380  2520-SGTTA             \n",
       "5218  2923-ARZLG             \n",
       "6670  4075-WKNIU             \n",
       "6754  2775-SEFEE             "
      ]
     },
     "execution_count": 5,
     "metadata": {},
     "output_type": "execute_result"
    }
   ],
   "source": [
    "df[df['TotalCharges'] == \" \"][['customerID', 'TotalCharges']]"
   ]
  },
  {
   "cell_type": "code",
   "execution_count": 6,
   "metadata": {},
   "outputs": [],
   "source": [
    "df['TotalCharges'] = pd.to_numeric(df['TotalCharges'], errors='coerce')\n",
    "df['TotalCharges'] = df['TotalCharges'].fillna(0)"
   ]
  },
  {
   "cell_type": "markdown",
   "metadata": {},
   "source": [
    "## Data cleaning (2)\n",
    "\n",
    "- This step cleans up strings: be it a column name or a value.\n",
    "- It replaces empty space \" \" by underscore \"_\".\n",
    "- It converts all letters to lower cases.\n",
    "(some good reasons for this!)\n"
   ]
  },
  {
   "cell_type": "code",
   "execution_count": 7,
   "metadata": {},
   "outputs": [],
   "source": [
    "df.columns = df.columns.str.lower()\n",
    "df.columns = df.columns.str.replace(\" \", \"_\")\n",
    "\n",
    "string_columns = list(df.dtypes[df.dtypes == \"object\"].index)\n",
    "for col in string_columns:\n",
    "    df[col] = df[col].str.lower()\n",
    "    df[col] = df[col].str.replace(\" \", \"_\")"
   ]
  },
  {
   "cell_type": "code",
   "execution_count": 8,
   "metadata": {},
   "outputs": [
    {
     "data": {
      "text/html": [
       "<div>\n",
       "<style scoped>\n",
       "    .dataframe tbody tr th:only-of-type {\n",
       "        vertical-align: middle;\n",
       "    }\n",
       "\n",
       "    .dataframe tbody tr th {\n",
       "        vertical-align: top;\n",
       "    }\n",
       "\n",
       "    .dataframe thead th {\n",
       "        text-align: right;\n",
       "    }\n",
       "</style>\n",
       "<table border=\"1\" class=\"dataframe\">\n",
       "  <thead>\n",
       "    <tr style=\"text-align: right;\">\n",
       "      <th></th>\n",
       "      <th>0</th>\n",
       "      <th>1</th>\n",
       "      <th>2</th>\n",
       "      <th>3</th>\n",
       "      <th>4</th>\n",
       "    </tr>\n",
       "  </thead>\n",
       "  <tbody>\n",
       "    <tr>\n",
       "      <th>customerid</th>\n",
       "      <td>7590-vhveg</td>\n",
       "      <td>5575-gnvde</td>\n",
       "      <td>3668-qpybk</td>\n",
       "      <td>7795-cfocw</td>\n",
       "      <td>9237-hqitu</td>\n",
       "    </tr>\n",
       "    <tr>\n",
       "      <th>gender</th>\n",
       "      <td>female</td>\n",
       "      <td>male</td>\n",
       "      <td>male</td>\n",
       "      <td>male</td>\n",
       "      <td>female</td>\n",
       "    </tr>\n",
       "    <tr>\n",
       "      <th>seniorcitizen</th>\n",
       "      <td>0</td>\n",
       "      <td>0</td>\n",
       "      <td>0</td>\n",
       "      <td>0</td>\n",
       "      <td>0</td>\n",
       "    </tr>\n",
       "    <tr>\n",
       "      <th>partner</th>\n",
       "      <td>yes</td>\n",
       "      <td>no</td>\n",
       "      <td>no</td>\n",
       "      <td>no</td>\n",
       "      <td>no</td>\n",
       "    </tr>\n",
       "    <tr>\n",
       "      <th>dependents</th>\n",
       "      <td>no</td>\n",
       "      <td>no</td>\n",
       "      <td>no</td>\n",
       "      <td>no</td>\n",
       "      <td>no</td>\n",
       "    </tr>\n",
       "    <tr>\n",
       "      <th>tenure</th>\n",
       "      <td>1</td>\n",
       "      <td>34</td>\n",
       "      <td>2</td>\n",
       "      <td>45</td>\n",
       "      <td>2</td>\n",
       "    </tr>\n",
       "    <tr>\n",
       "      <th>phoneservice</th>\n",
       "      <td>no</td>\n",
       "      <td>yes</td>\n",
       "      <td>yes</td>\n",
       "      <td>no</td>\n",
       "      <td>yes</td>\n",
       "    </tr>\n",
       "    <tr>\n",
       "      <th>multiplelines</th>\n",
       "      <td>no_phone_service</td>\n",
       "      <td>no</td>\n",
       "      <td>no</td>\n",
       "      <td>no_phone_service</td>\n",
       "      <td>no</td>\n",
       "    </tr>\n",
       "    <tr>\n",
       "      <th>internetservice</th>\n",
       "      <td>dsl</td>\n",
       "      <td>dsl</td>\n",
       "      <td>dsl</td>\n",
       "      <td>dsl</td>\n",
       "      <td>fiber_optic</td>\n",
       "    </tr>\n",
       "    <tr>\n",
       "      <th>onlinesecurity</th>\n",
       "      <td>no</td>\n",
       "      <td>yes</td>\n",
       "      <td>yes</td>\n",
       "      <td>yes</td>\n",
       "      <td>no</td>\n",
       "    </tr>\n",
       "    <tr>\n",
       "      <th>onlinebackup</th>\n",
       "      <td>yes</td>\n",
       "      <td>no</td>\n",
       "      <td>yes</td>\n",
       "      <td>no</td>\n",
       "      <td>no</td>\n",
       "    </tr>\n",
       "    <tr>\n",
       "      <th>deviceprotection</th>\n",
       "      <td>no</td>\n",
       "      <td>yes</td>\n",
       "      <td>no</td>\n",
       "      <td>yes</td>\n",
       "      <td>no</td>\n",
       "    </tr>\n",
       "    <tr>\n",
       "      <th>techsupport</th>\n",
       "      <td>no</td>\n",
       "      <td>no</td>\n",
       "      <td>no</td>\n",
       "      <td>yes</td>\n",
       "      <td>no</td>\n",
       "    </tr>\n",
       "    <tr>\n",
       "      <th>streamingtv</th>\n",
       "      <td>no</td>\n",
       "      <td>no</td>\n",
       "      <td>no</td>\n",
       "      <td>no</td>\n",
       "      <td>no</td>\n",
       "    </tr>\n",
       "    <tr>\n",
       "      <th>streamingmovies</th>\n",
       "      <td>no</td>\n",
       "      <td>no</td>\n",
       "      <td>no</td>\n",
       "      <td>no</td>\n",
       "      <td>no</td>\n",
       "    </tr>\n",
       "    <tr>\n",
       "      <th>contract</th>\n",
       "      <td>month-to-month</td>\n",
       "      <td>one_year</td>\n",
       "      <td>month-to-month</td>\n",
       "      <td>one_year</td>\n",
       "      <td>month-to-month</td>\n",
       "    </tr>\n",
       "    <tr>\n",
       "      <th>paperlessbilling</th>\n",
       "      <td>yes</td>\n",
       "      <td>no</td>\n",
       "      <td>yes</td>\n",
       "      <td>no</td>\n",
       "      <td>yes</td>\n",
       "    </tr>\n",
       "    <tr>\n",
       "      <th>paymentmethod</th>\n",
       "      <td>electronic_check</td>\n",
       "      <td>mailed_check</td>\n",
       "      <td>mailed_check</td>\n",
       "      <td>bank_transfer_(automatic)</td>\n",
       "      <td>electronic_check</td>\n",
       "    </tr>\n",
       "    <tr>\n",
       "      <th>monthlycharges</th>\n",
       "      <td>29.85</td>\n",
       "      <td>56.95</td>\n",
       "      <td>53.85</td>\n",
       "      <td>42.3</td>\n",
       "      <td>70.7</td>\n",
       "    </tr>\n",
       "    <tr>\n",
       "      <th>totalcharges</th>\n",
       "      <td>29.85</td>\n",
       "      <td>1889.5</td>\n",
       "      <td>108.15</td>\n",
       "      <td>1840.75</td>\n",
       "      <td>151.65</td>\n",
       "    </tr>\n",
       "    <tr>\n",
       "      <th>churn</th>\n",
       "      <td>no</td>\n",
       "      <td>no</td>\n",
       "      <td>yes</td>\n",
       "      <td>no</td>\n",
       "      <td>yes</td>\n",
       "    </tr>\n",
       "  </tbody>\n",
       "</table>\n",
       "</div>"
      ],
      "text/plain": [
       "                                 0             1               2  \\\n",
       "customerid              7590-vhveg    5575-gnvde      3668-qpybk   \n",
       "gender                      female          male            male   \n",
       "seniorcitizen                    0             0               0   \n",
       "partner                        yes            no              no   \n",
       "dependents                      no            no              no   \n",
       "tenure                           1            34               2   \n",
       "phoneservice                    no           yes             yes   \n",
       "multiplelines     no_phone_service            no              no   \n",
       "internetservice                dsl           dsl             dsl   \n",
       "onlinesecurity                  no           yes             yes   \n",
       "onlinebackup                   yes            no             yes   \n",
       "deviceprotection                no           yes              no   \n",
       "techsupport                     no            no              no   \n",
       "streamingtv                     no            no              no   \n",
       "streamingmovies                 no            no              no   \n",
       "contract            month-to-month      one_year  month-to-month   \n",
       "paperlessbilling               yes            no             yes   \n",
       "paymentmethod     electronic_check  mailed_check    mailed_check   \n",
       "monthlycharges               29.85         56.95           53.85   \n",
       "totalcharges                 29.85        1889.5          108.15   \n",
       "churn                           no            no             yes   \n",
       "\n",
       "                                          3                 4  \n",
       "customerid                       7795-cfocw        9237-hqitu  \n",
       "gender                                 male            female  \n",
       "seniorcitizen                             0                 0  \n",
       "partner                                  no                no  \n",
       "dependents                               no                no  \n",
       "tenure                                   45                 2  \n",
       "phoneservice                             no               yes  \n",
       "multiplelines              no_phone_service                no  \n",
       "internetservice                         dsl       fiber_optic  \n",
       "onlinesecurity                          yes                no  \n",
       "onlinebackup                             no                no  \n",
       "deviceprotection                        yes                no  \n",
       "techsupport                             yes                no  \n",
       "streamingtv                              no                no  \n",
       "streamingmovies                          no                no  \n",
       "contract                           one_year    month-to-month  \n",
       "paperlessbilling                         no               yes  \n",
       "paymentmethod     bank_transfer_(automatic)  electronic_check  \n",
       "monthlycharges                         42.3              70.7  \n",
       "totalcharges                        1840.75            151.65  \n",
       "churn                                    no               yes  "
      ]
     },
     "execution_count": 8,
     "metadata": {},
     "output_type": "execute_result"
    }
   ],
   "source": [
    "df.head().T"
   ]
  },
  {
   "cell_type": "markdown",
   "metadata": {},
   "source": [
    "# 2. Prepare data for model training"
   ]
  },
  {
   "cell_type": "markdown",
   "metadata": {},
   "source": [
    "## 2.1 Target variable\n",
    "- The target variable is \"churn\". Currently it takes \"yes/no\" as values.\n",
    "- We convert these to a binary 1/0"
   ]
  },
  {
   "cell_type": "code",
   "execution_count": 9,
   "metadata": {},
   "outputs": [
    {
     "data": {
      "text/plain": [
       "no     5174\n",
       "yes    1869\n",
       "Name: churn, dtype: int64"
      ]
     },
     "execution_count": 9,
     "metadata": {},
     "output_type": "execute_result"
    }
   ],
   "source": [
    "df['churn'].value_counts()"
   ]
  },
  {
   "cell_type": "code",
   "execution_count": 10,
   "metadata": {},
   "outputs": [
    {
     "data": {
      "text/plain": [
       "0    5174\n",
       "1    1869\n",
       "Name: churn, dtype: int64"
      ]
     },
     "execution_count": 10,
     "metadata": {},
     "output_type": "execute_result"
    }
   ],
   "source": [
    "df['churn'] = (df['churn'] == 'yes').astype(int)\n",
    "df['churn'].value_counts()"
   ]
  },
  {
   "cell_type": "markdown",
   "metadata": {},
   "source": [
    "## 2.2 Split dataset to {training + validation + test} sets\n",
    "- You are allowed to use Training + Validation sets \n",
    "    - Train a model with the training set\n",
    "    - Validate model (e.g., of two models which one is better; among different model parameters which ones seem best; etc.)\n",
    "- Report model performance on Test set as a proxy to unseen/new data\n",
    "    - Don't use Test set in training (or validation)!"
   ]
  },
  {
   "cell_type": "code",
   "execution_count": 11,
   "metadata": {},
   "outputs": [],
   "source": [
    "from sklearn.model_selection import train_test_split"
   ]
  },
  {
   "cell_type": "markdown",
   "metadata": {},
   "source": [
    "#### Say set Train + Validation  = 80%, Test 20%,"
   ]
  },
  {
   "cell_type": "code",
   "execution_count": 12,
   "metadata": {},
   "outputs": [
    {
     "name": "stdout",
     "output_type": "stream",
     "text": [
      "Train size: 4225\n",
      "Validation size: 1409\n",
      "Test size: 1409\n",
      "Train : Valid : Test =  0.60 : 0.20 : 0.20\n"
     ]
    }
   ],
   "source": [
    "TRAIN_RATIO, VALID_RATIO, TEST_RATIO = 0.6, 0.2, 0.2\n",
    "\n",
    "df_train_full, df_test = train_test_split(df, test_size=TEST_RATIO, random_state=12)\n",
    "# Further split into Traininng and Validation sets\n",
    "df_train, df_valid = train_test_split(df_train_full, test_size=VALID_RATIO/(TRAIN_RATIO + VALID_RATIO), random_state=123)\n",
    "\n",
    "print(\"Train size:\", len(df_train))\n",
    "print(\"Validation size:\", len(df_valid))\n",
    "print(\"Test size:\", len(df_test))\n",
    "print(\"Train : Valid : Test = \", f\"{len(df_train)/len(df):.2f} : {len(df_valid)/len(df):.2f} : {len(df_test)/len(df):.2f}\")"
   ]
  },
  {
   "cell_type": "markdown",
   "metadata": {},
   "source": [
    "## 2.3 Set aside target values (the \"y\")"
   ]
  },
  {
   "cell_type": "code",
   "execution_count": 13,
   "metadata": {},
   "outputs": [],
   "source": [
    "y_train = df_train['churn'].values \n",
    "y_valid = df_valid['churn'].values \n",
    "y_test = df_test['churn'].values\n",
    "\n",
    "# To avoid incidentally using the \"y\" values as training features, remove the targets from training data\n",
    "del df_train['churn']\n",
    "del df_valid['churn']"
   ]
  },
  {
   "cell_type": "markdown",
   "metadata": {},
   "source": [
    "## 2.4 Feature Engineering (the \"X\")"
   ]
  },
  {
   "cell_type": "markdown",
   "metadata": {},
   "source": [
    "### Select columns to for feature engineering\n",
    "For simplicity, we simply take all columns (except \"customerid\")"
   ]
  },
  {
   "cell_type": "code",
   "execution_count": 14,
   "metadata": {},
   "outputs": [],
   "source": [
    "#df_train.dtypes"
   ]
  },
  {
   "cell_type": "code",
   "execution_count": 15,
   "metadata": {},
   "outputs": [],
   "source": [
    "categorical = [\n",
    "    'gender', 'seniorcitizen', 'partner', 'dependents', 'phoneservice', \n",
    "    'multiplelines', 'internetservice', 'onlinesecurity', 'onlinebackup', \n",
    "    'deviceprotection', 'techsupport', 'streamingtv', 'streamingmovies',\n",
    "    'contract', 'paperlessbilling', 'paymentmethod'\n",
    "    ]\n",
    "    \n",
    "numerical = ['tenure', 'monthlycharges', 'totalcharges']"
   ]
  },
  {
   "cell_type": "markdown",
   "metadata": {},
   "source": [
    "#### Vectorize the dataframe to a pure numeric matrix X "
   ]
  },
  {
   "cell_type": "code",
   "execution_count": 16,
   "metadata": {},
   "outputs": [],
   "source": [
    "from sklearn.feature_extraction import DictVectorizer"
   ]
  },
  {
   "cell_type": "code",
   "execution_count": 17,
   "metadata": {},
   "outputs": [],
   "source": [
    "train_dict = df_train[categorical + numerical].to_dict(orient='records')\n",
    "#train_dict[:1]"
   ]
  },
  {
   "cell_type": "code",
   "execution_count": 18,
   "metadata": {},
   "outputs": [],
   "source": [
    "dict_vectorizer = DictVectorizer(sparse=False)\n",
    "dict_vectorizer.fit(train_dict)\n",
    "\n",
    "X_train = dict_vectorizer.transform(train_dict)"
   ]
  },
  {
   "cell_type": "markdown",
   "metadata": {},
   "source": [
    "#### Let's take a close look at the feature matrix X_train"
   ]
  },
  {
   "cell_type": "code",
   "execution_count": 19,
   "metadata": {},
   "outputs": [
    {
     "name": "stdout",
     "output_type": "stream",
     "text": [
      "Matrix of shape 4225 by 45\n",
      "[[1.00000e+00 0.00000e+00 0.00000e+00 ... 0.00000e+00 1.00000e+00\n",
      "  9.08500e+01]\n",
      " [1.00000e+00 0.00000e+00 0.00000e+00 ... 0.00000e+00 4.10000e+01\n",
      "  7.75600e+02]\n",
      " [1.00000e+00 0.00000e+00 0.00000e+00 ... 0.00000e+00 4.10000e+01\n",
      "  3.64505e+03]\n",
      " ...\n",
      " [1.00000e+00 0.00000e+00 0.00000e+00 ... 0.00000e+00 7.00000e+00\n",
      "  5.21350e+02]\n",
      " [0.00000e+00 1.00000e+00 0.00000e+00 ... 0.00000e+00 6.30000e+01\n",
      "  1.32815e+03]\n",
      " [0.00000e+00 1.00000e+00 0.00000e+00 ... 0.00000e+00 5.10000e+01\n",
      "  4.55485e+03]]\n"
     ]
    }
   ],
   "source": [
    "print(f\"Matrix of shape {X_train.shape[0]} by {X_train.shape[1]}\")\n",
    "\n",
    "print(X_train)"
   ]
  },
  {
   "cell_type": "code",
   "execution_count": 20,
   "metadata": {},
   "outputs": [],
   "source": [
    "#print(len(df_train))\n",
    "#print(len(dict_vectorizer.feature_names_))\n",
    "#print(\"Features after vectorization:\")\n",
    "#print(dict_vectorizer.feature_names_)"
   ]
  },
  {
   "cell_type": "markdown",
   "metadata": {},
   "source": [
    "#### Let's inspect X_train in a more verbose way"
   ]
  },
  {
   "cell_type": "code",
   "execution_count": 21,
   "metadata": {},
   "outputs": [
    {
     "data": {
      "text/html": [
       "<div>\n",
       "<style scoped>\n",
       "    .dataframe tbody tr th:only-of-type {\n",
       "        vertical-align: middle;\n",
       "    }\n",
       "\n",
       "    .dataframe tbody tr th {\n",
       "        vertical-align: top;\n",
       "    }\n",
       "\n",
       "    .dataframe thead th {\n",
       "        text-align: right;\n",
       "    }\n",
       "</style>\n",
       "<table border=\"1\" class=\"dataframe\">\n",
       "  <thead>\n",
       "    <tr style=\"text-align: right;\">\n",
       "      <th></th>\n",
       "      <th>contract=month-to-month</th>\n",
       "      <th>contract=one_year</th>\n",
       "      <th>contract=two_year</th>\n",
       "      <th>dependents=no</th>\n",
       "      <th>dependents=yes</th>\n",
       "      <th>deviceprotection=no</th>\n",
       "      <th>deviceprotection=no_internet_service</th>\n",
       "      <th>deviceprotection=yes</th>\n",
       "      <th>gender=female</th>\n",
       "      <th>gender=male</th>\n",
       "      <th>...</th>\n",
       "      <th>streamingmovies=no_internet_service</th>\n",
       "      <th>streamingmovies=yes</th>\n",
       "      <th>streamingtv=no</th>\n",
       "      <th>streamingtv=no_internet_service</th>\n",
       "      <th>streamingtv=yes</th>\n",
       "      <th>techsupport=no</th>\n",
       "      <th>techsupport=no_internet_service</th>\n",
       "      <th>techsupport=yes</th>\n",
       "      <th>tenure</th>\n",
       "      <th>totalcharges</th>\n",
       "    </tr>\n",
       "  </thead>\n",
       "  <tbody>\n",
       "    <tr>\n",
       "      <th>0</th>\n",
       "      <td>1.0</td>\n",
       "      <td>0.0</td>\n",
       "      <td>0.0</td>\n",
       "      <td>0.0</td>\n",
       "      <td>1.0</td>\n",
       "      <td>1.0</td>\n",
       "      <td>0.0</td>\n",
       "      <td>0.0</td>\n",
       "      <td>0.0</td>\n",
       "      <td>1.0</td>\n",
       "      <td>...</td>\n",
       "      <td>0.0</td>\n",
       "      <td>1.0</td>\n",
       "      <td>0.0</td>\n",
       "      <td>0.0</td>\n",
       "      <td>1.0</td>\n",
       "      <td>1.0</td>\n",
       "      <td>0.0</td>\n",
       "      <td>0.0</td>\n",
       "      <td>1.0</td>\n",
       "      <td>90.85</td>\n",
       "    </tr>\n",
       "    <tr>\n",
       "      <th>1</th>\n",
       "      <td>1.0</td>\n",
       "      <td>0.0</td>\n",
       "      <td>0.0</td>\n",
       "      <td>1.0</td>\n",
       "      <td>0.0</td>\n",
       "      <td>0.0</td>\n",
       "      <td>1.0</td>\n",
       "      <td>0.0</td>\n",
       "      <td>1.0</td>\n",
       "      <td>0.0</td>\n",
       "      <td>...</td>\n",
       "      <td>1.0</td>\n",
       "      <td>0.0</td>\n",
       "      <td>0.0</td>\n",
       "      <td>1.0</td>\n",
       "      <td>0.0</td>\n",
       "      <td>0.0</td>\n",
       "      <td>1.0</td>\n",
       "      <td>0.0</td>\n",
       "      <td>41.0</td>\n",
       "      <td>775.60</td>\n",
       "    </tr>\n",
       "    <tr>\n",
       "      <th>2</th>\n",
       "      <td>1.0</td>\n",
       "      <td>0.0</td>\n",
       "      <td>0.0</td>\n",
       "      <td>0.0</td>\n",
       "      <td>1.0</td>\n",
       "      <td>1.0</td>\n",
       "      <td>0.0</td>\n",
       "      <td>0.0</td>\n",
       "      <td>1.0</td>\n",
       "      <td>0.0</td>\n",
       "      <td>...</td>\n",
       "      <td>0.0</td>\n",
       "      <td>0.0</td>\n",
       "      <td>0.0</td>\n",
       "      <td>0.0</td>\n",
       "      <td>1.0</td>\n",
       "      <td>1.0</td>\n",
       "      <td>0.0</td>\n",
       "      <td>0.0</td>\n",
       "      <td>41.0</td>\n",
       "      <td>3645.05</td>\n",
       "    </tr>\n",
       "    <tr>\n",
       "      <th>3</th>\n",
       "      <td>0.0</td>\n",
       "      <td>0.0</td>\n",
       "      <td>1.0</td>\n",
       "      <td>1.0</td>\n",
       "      <td>0.0</td>\n",
       "      <td>0.0</td>\n",
       "      <td>1.0</td>\n",
       "      <td>0.0</td>\n",
       "      <td>1.0</td>\n",
       "      <td>0.0</td>\n",
       "      <td>...</td>\n",
       "      <td>1.0</td>\n",
       "      <td>0.0</td>\n",
       "      <td>0.0</td>\n",
       "      <td>1.0</td>\n",
       "      <td>0.0</td>\n",
       "      <td>0.0</td>\n",
       "      <td>1.0</td>\n",
       "      <td>0.0</td>\n",
       "      <td>72.0</td>\n",
       "      <td>1778.70</td>\n",
       "    </tr>\n",
       "    <tr>\n",
       "      <th>4</th>\n",
       "      <td>0.0</td>\n",
       "      <td>1.0</td>\n",
       "      <td>0.0</td>\n",
       "      <td>1.0</td>\n",
       "      <td>0.0</td>\n",
       "      <td>1.0</td>\n",
       "      <td>0.0</td>\n",
       "      <td>0.0</td>\n",
       "      <td>1.0</td>\n",
       "      <td>0.0</td>\n",
       "      <td>...</td>\n",
       "      <td>0.0</td>\n",
       "      <td>0.0</td>\n",
       "      <td>1.0</td>\n",
       "      <td>0.0</td>\n",
       "      <td>0.0</td>\n",
       "      <td>0.0</td>\n",
       "      <td>0.0</td>\n",
       "      <td>1.0</td>\n",
       "      <td>47.0</td>\n",
       "      <td>2813.05</td>\n",
       "    </tr>\n",
       "    <tr>\n",
       "      <th>...</th>\n",
       "      <td>...</td>\n",
       "      <td>...</td>\n",
       "      <td>...</td>\n",
       "      <td>...</td>\n",
       "      <td>...</td>\n",
       "      <td>...</td>\n",
       "      <td>...</td>\n",
       "      <td>...</td>\n",
       "      <td>...</td>\n",
       "      <td>...</td>\n",
       "      <td>...</td>\n",
       "      <td>...</td>\n",
       "      <td>...</td>\n",
       "      <td>...</td>\n",
       "      <td>...</td>\n",
       "      <td>...</td>\n",
       "      <td>...</td>\n",
       "      <td>...</td>\n",
       "      <td>...</td>\n",
       "      <td>...</td>\n",
       "      <td>...</td>\n",
       "    </tr>\n",
       "    <tr>\n",
       "      <th>4220</th>\n",
       "      <td>1.0</td>\n",
       "      <td>0.0</td>\n",
       "      <td>0.0</td>\n",
       "      <td>1.0</td>\n",
       "      <td>0.0</td>\n",
       "      <td>1.0</td>\n",
       "      <td>0.0</td>\n",
       "      <td>0.0</td>\n",
       "      <td>1.0</td>\n",
       "      <td>0.0</td>\n",
       "      <td>...</td>\n",
       "      <td>0.0</td>\n",
       "      <td>0.0</td>\n",
       "      <td>1.0</td>\n",
       "      <td>0.0</td>\n",
       "      <td>0.0</td>\n",
       "      <td>1.0</td>\n",
       "      <td>0.0</td>\n",
       "      <td>0.0</td>\n",
       "      <td>4.0</td>\n",
       "      <td>281.00</td>\n",
       "    </tr>\n",
       "    <tr>\n",
       "      <th>4221</th>\n",
       "      <td>1.0</td>\n",
       "      <td>0.0</td>\n",
       "      <td>0.0</td>\n",
       "      <td>1.0</td>\n",
       "      <td>0.0</td>\n",
       "      <td>1.0</td>\n",
       "      <td>0.0</td>\n",
       "      <td>0.0</td>\n",
       "      <td>0.0</td>\n",
       "      <td>1.0</td>\n",
       "      <td>...</td>\n",
       "      <td>0.0</td>\n",
       "      <td>0.0</td>\n",
       "      <td>1.0</td>\n",
       "      <td>0.0</td>\n",
       "      <td>0.0</td>\n",
       "      <td>1.0</td>\n",
       "      <td>0.0</td>\n",
       "      <td>0.0</td>\n",
       "      <td>1.0</td>\n",
       "      <td>24.45</td>\n",
       "    </tr>\n",
       "    <tr>\n",
       "      <th>4222</th>\n",
       "      <td>1.0</td>\n",
       "      <td>0.0</td>\n",
       "      <td>0.0</td>\n",
       "      <td>1.0</td>\n",
       "      <td>0.0</td>\n",
       "      <td>1.0</td>\n",
       "      <td>0.0</td>\n",
       "      <td>0.0</td>\n",
       "      <td>0.0</td>\n",
       "      <td>1.0</td>\n",
       "      <td>...</td>\n",
       "      <td>0.0</td>\n",
       "      <td>0.0</td>\n",
       "      <td>1.0</td>\n",
       "      <td>0.0</td>\n",
       "      <td>0.0</td>\n",
       "      <td>1.0</td>\n",
       "      <td>0.0</td>\n",
       "      <td>0.0</td>\n",
       "      <td>7.0</td>\n",
       "      <td>521.35</td>\n",
       "    </tr>\n",
       "    <tr>\n",
       "      <th>4223</th>\n",
       "      <td>0.0</td>\n",
       "      <td>1.0</td>\n",
       "      <td>0.0</td>\n",
       "      <td>1.0</td>\n",
       "      <td>0.0</td>\n",
       "      <td>0.0</td>\n",
       "      <td>1.0</td>\n",
       "      <td>0.0</td>\n",
       "      <td>0.0</td>\n",
       "      <td>1.0</td>\n",
       "      <td>...</td>\n",
       "      <td>1.0</td>\n",
       "      <td>0.0</td>\n",
       "      <td>0.0</td>\n",
       "      <td>1.0</td>\n",
       "      <td>0.0</td>\n",
       "      <td>0.0</td>\n",
       "      <td>1.0</td>\n",
       "      <td>0.0</td>\n",
       "      <td>63.0</td>\n",
       "      <td>1328.15</td>\n",
       "    </tr>\n",
       "    <tr>\n",
       "      <th>4224</th>\n",
       "      <td>0.0</td>\n",
       "      <td>1.0</td>\n",
       "      <td>0.0</td>\n",
       "      <td>0.0</td>\n",
       "      <td>1.0</td>\n",
       "      <td>0.0</td>\n",
       "      <td>0.0</td>\n",
       "      <td>1.0</td>\n",
       "      <td>1.0</td>\n",
       "      <td>0.0</td>\n",
       "      <td>...</td>\n",
       "      <td>0.0</td>\n",
       "      <td>1.0</td>\n",
       "      <td>1.0</td>\n",
       "      <td>0.0</td>\n",
       "      <td>0.0</td>\n",
       "      <td>1.0</td>\n",
       "      <td>0.0</td>\n",
       "      <td>0.0</td>\n",
       "      <td>51.0</td>\n",
       "      <td>4554.85</td>\n",
       "    </tr>\n",
       "  </tbody>\n",
       "</table>\n",
       "<p>4225 rows × 45 columns</p>\n",
       "</div>"
      ],
      "text/plain": [
       "      contract=month-to-month  contract=one_year  contract=two_year  \\\n",
       "0                         1.0                0.0                0.0   \n",
       "1                         1.0                0.0                0.0   \n",
       "2                         1.0                0.0                0.0   \n",
       "3                         0.0                0.0                1.0   \n",
       "4                         0.0                1.0                0.0   \n",
       "...                       ...                ...                ...   \n",
       "4220                      1.0                0.0                0.0   \n",
       "4221                      1.0                0.0                0.0   \n",
       "4222                      1.0                0.0                0.0   \n",
       "4223                      0.0                1.0                0.0   \n",
       "4224                      0.0                1.0                0.0   \n",
       "\n",
       "      dependents=no  dependents=yes  deviceprotection=no  \\\n",
       "0               0.0             1.0                  1.0   \n",
       "1               1.0             0.0                  0.0   \n",
       "2               0.0             1.0                  1.0   \n",
       "3               1.0             0.0                  0.0   \n",
       "4               1.0             0.0                  1.0   \n",
       "...             ...             ...                  ...   \n",
       "4220            1.0             0.0                  1.0   \n",
       "4221            1.0             0.0                  1.0   \n",
       "4222            1.0             0.0                  1.0   \n",
       "4223            1.0             0.0                  0.0   \n",
       "4224            0.0             1.0                  0.0   \n",
       "\n",
       "      deviceprotection=no_internet_service  deviceprotection=yes  \\\n",
       "0                                      0.0                   0.0   \n",
       "1                                      1.0                   0.0   \n",
       "2                                      0.0                   0.0   \n",
       "3                                      1.0                   0.0   \n",
       "4                                      0.0                   0.0   \n",
       "...                                    ...                   ...   \n",
       "4220                                   0.0                   0.0   \n",
       "4221                                   0.0                   0.0   \n",
       "4222                                   0.0                   0.0   \n",
       "4223                                   1.0                   0.0   \n",
       "4224                                   0.0                   1.0   \n",
       "\n",
       "      gender=female  gender=male  ...  streamingmovies=no_internet_service  \\\n",
       "0               0.0          1.0  ...                                  0.0   \n",
       "1               1.0          0.0  ...                                  1.0   \n",
       "2               1.0          0.0  ...                                  0.0   \n",
       "3               1.0          0.0  ...                                  1.0   \n",
       "4               1.0          0.0  ...                                  0.0   \n",
       "...             ...          ...  ...                                  ...   \n",
       "4220            1.0          0.0  ...                                  0.0   \n",
       "4221            0.0          1.0  ...                                  0.0   \n",
       "4222            0.0          1.0  ...                                  0.0   \n",
       "4223            0.0          1.0  ...                                  1.0   \n",
       "4224            1.0          0.0  ...                                  0.0   \n",
       "\n",
       "      streamingmovies=yes  streamingtv=no  streamingtv=no_internet_service  \\\n",
       "0                     1.0             0.0                              0.0   \n",
       "1                     0.0             0.0                              1.0   \n",
       "2                     0.0             0.0                              0.0   \n",
       "3                     0.0             0.0                              1.0   \n",
       "4                     0.0             1.0                              0.0   \n",
       "...                   ...             ...                              ...   \n",
       "4220                  0.0             1.0                              0.0   \n",
       "4221                  0.0             1.0                              0.0   \n",
       "4222                  0.0             1.0                              0.0   \n",
       "4223                  0.0             0.0                              1.0   \n",
       "4224                  1.0             1.0                              0.0   \n",
       "\n",
       "      streamingtv=yes  techsupport=no  techsupport=no_internet_service  \\\n",
       "0                 1.0             1.0                              0.0   \n",
       "1                 0.0             0.0                              1.0   \n",
       "2                 1.0             1.0                              0.0   \n",
       "3                 0.0             0.0                              1.0   \n",
       "4                 0.0             0.0                              0.0   \n",
       "...               ...             ...                              ...   \n",
       "4220              0.0             1.0                              0.0   \n",
       "4221              0.0             1.0                              0.0   \n",
       "4222              0.0             1.0                              0.0   \n",
       "4223              0.0             0.0                              1.0   \n",
       "4224              0.0             1.0                              0.0   \n",
       "\n",
       "      techsupport=yes  tenure  totalcharges  \n",
       "0                 0.0     1.0         90.85  \n",
       "1                 0.0    41.0        775.60  \n",
       "2                 0.0    41.0       3645.05  \n",
       "3                 0.0    72.0       1778.70  \n",
       "4                 1.0    47.0       2813.05  \n",
       "...               ...     ...           ...  \n",
       "4220              0.0     4.0        281.00  \n",
       "4221              0.0     1.0         24.45  \n",
       "4222              0.0     7.0        521.35  \n",
       "4223              0.0    63.0       1328.15  \n",
       "4224              0.0    51.0       4554.85  \n",
       "\n",
       "[4225 rows x 45 columns]"
      ]
     },
     "execution_count": 21,
     "metadata": {},
     "output_type": "execute_result"
    }
   ],
   "source": [
    "pd.DataFrame(X_train, columns=dict_vectorizer.feature_names_)"
   ]
  },
  {
   "cell_type": "markdown",
   "metadata": {},
   "source": [
    "# 3. Model training\n",
    "With {X_train, y_train}, it is enough to train a model:\n",
    "What is trainining?\n",
    "- A model is analogous to a mathematical function: $y = Model(input = X)$\n",
    "- Model learns from examples (X_train, y_train)\n",
    "- Learning means reducing differences between y_train and y_pred, where y_pred = Model.predict(X_train). \n"
   ]
  },
  {
   "cell_type": "code",
   "execution_count": 22,
   "metadata": {},
   "outputs": [],
   "source": [
    "from sklearn.linear_model import LogisticRegression"
   ]
  },
  {
   "cell_type": "markdown",
   "metadata": {},
   "source": [
    "## Here we use a simple binary classfication model: Logistic Regression\n",
    "- Oxymoronic name: it's not for regression but for classification\n",
    "- Linear regression disguised \n",
    "\n",
    "### Set-up: \n",
    "\n",
    "- Input is an observation featurized as a vector $\\vec{x} = [x_{1}, x_{2}, \\cdots, x_{i}, \\cdots]$\n",
    "    -   Feature vector size = number of features\n",
    "- Prediction is whether its label is Class 1 or Class 0\n",
    "- Instead of predicting a hard 1/0, predict the probablity $\\hat{p}$ of being 1 or 0 \n",
    "    - Predicting a probablity $\\hat{p} \\in [0, 1]$ is a soft version of predicting either 0 or 1 (hard version). \n",
    "    - It has a probablistic confidence intepretation.\n",
    "\n",
    "Proba | Category \n",
    "----- | ----- \n",
    "$1 - p$ | Class 0\n",
    "$p$ | Class 1\n",
    "\n",
    "- If $p \\geq 1 - p$, i.e. $p \\geq 1/2$, it's more likely of Class 1.\n",
    "- If $p < 1 - p$, i.e. $p < 1/2$, it's more likely of Class 0.\n",
    "\n",
    "### Prediction: \n",
    "Compute\n",
    "$$\n",
    "\\begin{align*}\n",
    "\\log \\frac{\\hat{p}}{1-\\hat{p}} \n",
    "&= w_{0} + w_{1} x_{1} + w_{2} x_{2} + \\cdots + w_{i} x_{i} + \\cdots\\\\\n",
    "&= \\vec{w}^{\\intercal}\\vec{x}\n",
    "\\end{align*}\n",
    "$$\n",
    "That is, \n",
    "$$\n",
    "\\begin{align*}\n",
    "\\frac{\\hat{p}}{1-\\hat{p}} = e^{\\vec{w}^{\\intercal}\\vec{x}}\n",
    "\\Longrightarrow\\ \n",
    "\\boxed{\\hat{p} \n",
    "= \\frac{1}{1 + e^{- \\vec{w}^{\\intercal}\\vec{x}}} = \\mathrm{Sigmoid}\\left(\\vec{w}^{\\intercal}\\vec{x}\\right)}\n",
    "\\end{align*}\n",
    "$$\n",
    "\n",
    "Where do these $\\vec{w} = [w_{1}, w_{2}, \\cdots, w_{i}, \\cdots]$ come from? \n",
    "\n",
    "Machine learning: the model learns these weights from labeled training dataset. "
   ]
  },
  {
   "cell_type": "markdown",
   "metadata": {},
   "source": [
    "## 3.1 Train a model; evaluate its train, validation, test accuracies"
   ]
  },
  {
   "cell_type": "code",
   "execution_count": 23,
   "metadata": {},
   "outputs": [
    {
     "data": {
      "text/plain": [
       "LogisticRegression(max_iter=1000, random_state=1234, solver='liblinear')"
      ]
     },
     "execution_count": 23,
     "metadata": {},
     "output_type": "execute_result"
    }
   ],
   "source": [
    "model = LogisticRegression(solver='liblinear', max_iter=1000, random_state=1234)\n",
    "model.fit(X_train, y_train)"
   ]
  },
  {
   "cell_type": "code",
   "execution_count": 24,
   "metadata": {},
   "outputs": [
    {
     "data": {
      "text/plain": [
       "array([0.79873796, 0.03110264, 0.33131158, ..., 0.66833635, 0.00289883,\n",
       "       0.24169955])"
      ]
     },
     "execution_count": 24,
     "metadata": {},
     "output_type": "execute_result"
    }
   ],
   "source": [
    "y_train_pred = model.predict_proba(X_train)[:, 1]\n",
    "y_train_pred"
   ]
  },
  {
   "cell_type": "markdown",
   "metadata": {},
   "source": [
    "### To summarize what we have done (train a model; use model to make predictions), organize the code into two functions:\n",
    "- train()\n",
    "- predict()"
   ]
  },
  {
   "cell_type": "code",
   "execution_count": 25,
   "metadata": {},
   "outputs": [],
   "source": [
    "def train(df, y, features=None, C=1.0):\n",
    "    if features is None:\n",
    "        features = categorical + numerical\n",
    "    \n",
    "    cat = df[features].to_dict(orient='records')\n",
    "\n",
    "    dict_vectorizer = DictVectorizer()\n",
    "    dict_vectorizer.fit(cat)\n",
    "\n",
    "    X = dict_vectorizer.transform(cat)\n",
    "\n",
    "    model = LogisticRegression(solver='liblinear', max_iter=1000, random_state=1234, C=C)\n",
    "    model.fit(X, y)\n",
    "\n",
    "    return dict_vectorizer, model"
   ]
  },
  {
   "cell_type": "code",
   "execution_count": 26,
   "metadata": {},
   "outputs": [],
   "source": [
    "def predict(df, dict_vectorizer, model, features=None):\n",
    "    if features is None:\n",
    "        features = categorical + numerical\n",
    "    \n",
    "    cat = df[features].to_dict(orient='records')\n",
    "    \n",
    "    X = dict_vectorizer.transform(cat)\n",
    "\n",
    "    y_pred = model.predict_proba(X)[:, 1]\n",
    "\n",
    "    return y_pred"
   ]
  },
  {
   "cell_type": "markdown",
   "metadata": {},
   "source": [
    "### How accurate?"
   ]
  },
  {
   "cell_type": "code",
   "execution_count": 27,
   "metadata": {},
   "outputs": [],
   "source": [
    "from sklearn.metrics import accuracy_score"
   ]
  },
  {
   "cell_type": "code",
   "execution_count": 28,
   "metadata": {},
   "outputs": [],
   "source": [
    "dict_vectorizer, model = train(df_train, y_train)\n",
    "\n",
    "# Training accuracy\n",
    "y_train_pred = predict(df_train, dict_vectorizer, model)\n",
    "accu_train = accuracy_score(y_train, y_train_pred>=0.5)\n",
    "\n",
    "# Validation accuracy\n",
    "y_valid_pred = predict(df_valid, dict_vectorizer, model)\n",
    "accu_valid = accuracy_score(y_valid, y_valid_pred>=0.5)\n",
    "\n",
    "# Test accuracy\n",
    "y_test_pred = predict(df_test, dict_vectorizer, model)\n",
    "accu_test = accuracy_score(y_test, y_test_pred>=0.5)"
   ]
  },
  {
   "cell_type": "code",
   "execution_count": 29,
   "metadata": {},
   "outputs": [
    {
     "name": "stdout",
     "output_type": "stream",
     "text": [
      "Accuracy:\n",
      "Training: 0.8026\n",
      "Validation: 0.8148\n",
      "Test: 0.7991\n"
     ]
    }
   ],
   "source": [
    "print(\"Accuracy:\")\n",
    "print(f\"Training: {accu_train:.4f}\")\n",
    "print(f\"Validation: {accu_valid:.4f}\")\n",
    "print(f\"Test: {accu_test:.4f}\")"
   ]
  },
  {
   "cell_type": "markdown",
   "metadata": {},
   "source": [
    "### Model serving"
   ]
  },
  {
   "cell_type": "code",
   "execution_count": 30,
   "metadata": {},
   "outputs": [
    {
     "name": "stdout",
     "output_type": "stream",
     "text": [
      "Customer:\n",
      " [{'customerid': '2038-yseze', 'gender': 'female', 'seniorcitizen': 0, 'partner': 'no', 'dependents': 'no', 'tenure': 29, 'phoneservice': 'yes', 'multiplelines': 'yes', 'internetservice': 'dsl', 'onlinesecurity': 'yes', 'onlinebackup': 'yes', 'deviceprotection': 'no', 'techsupport': 'yes', 'streamingtv': 'no', 'streamingmovies': 'no', 'contract': 'month-to-month', 'paperlessbilling': 'no', 'paymentmethod': 'mailed_check', 'monthlycharges': 67.45, 'totalcharges': 1801.1, 'churn': 0}]\n",
      "\n",
      "Predicted proba of being Class 1:\n",
      " [0.05910572]\n",
      "\n",
      "Truth: y = 0\n"
     ]
    }
   ],
   "source": [
    "test_idx = 123\n",
    "customer = df_test.iloc[[test_idx]]\n",
    "print(\"Customer:\\n\", customer.to_dict(orient='records'))\n",
    "\n",
    "print(\"\\nPredicted proba of being Class 1:\\n\", predict(customer, dict_vectorizer, model))\n",
    "print(\"\\nTruth: y =\", y_test[test_idx])"
   ]
  },
  {
   "cell_type": "markdown",
   "metadata": {},
   "source": [
    "## 3.2 For comparison, let's also train a smaller model\n",
    "Train with smaller subset of features"
   ]
  },
  {
   "cell_type": "code",
   "execution_count": 31,
   "metadata": {},
   "outputs": [
    {
     "name": "stdout",
     "output_type": "stream",
     "text": [
      "Accuracy (smaller model):\n",
      "Training: 0.7723\n",
      "Validation: 0.7757\n",
      "Test: 0.7821\n"
     ]
    }
   ],
   "source": [
    "feature_subset = ['contract', 'tenure', 'totalcharges']\n",
    "\n",
    "dict_vectorizer_small, model_small = train(df_train, y_train, features=feature_subset)\n",
    "\n",
    "y_train_pred_small = predict(df_train, dict_vectorizer_small, model_small, features=feature_subset)\n",
    "accu_train_small = accuracy_score(y_train, y_train_pred_small>=0.5)\n",
    "\n",
    "y_valid_pred_small = predict(df_valid, dict_vectorizer_small, model_small, features=feature_subset)\n",
    "accu_valid_small = accuracy_score(y_valid, y_valid_pred_small>=0.5)\n",
    "\n",
    "y_test_pred_small = predict(df_test, dict_vectorizer_small, model_small, features=feature_subset)\n",
    "accu_test_small = accuracy_score(y_test, y_test_pred_small>=0.5)\n",
    "\n",
    "print(\"Accuracy (smaller model):\")\n",
    "print(f\"Training: {accu_train_small:.4f}\")\n",
    "print(f\"Validation: {accu_valid_small:.4f}\")\n",
    "print(f\"Test: {accu_test_small:.4f}\")"
   ]
  },
  {
   "cell_type": "markdown",
   "metadata": {},
   "source": [
    "# 4. Evaluation"
   ]
  },
  {
   "cell_type": "markdown",
   "metadata": {},
   "source": [
    "### Purposes:\n",
    "- How good a model really is, from more angles: accuracy, precision, recall, false-positive rate, ROC-AUC score\n",
    "- How to know a model is trained with optimal settings (hyper-parameters) "
   ]
  },
  {
   "cell_type": "markdown",
   "metadata": {},
   "source": [
    "Two things you should begin questioning:\n",
    "- Is 80%-ish accuracy (for training, test) good?\n",
    "    - Answer: not really impressive. Try compare with a baseline model.\n",
    "- Is validation really being conducted?\n",
    "    - Answer: somewhat but not fully used. Need to do cross-validation."
   ]
  },
  {
   "cell_type": "markdown",
   "metadata": {},
   "source": [
    "## 4.1 Compare with Baseline model and Random model - Accuracy is not the only metric!\n",
    "- Baseline model: always predict the majority class (here: non-churn or Class 0)"
   ]
  },
  {
   "cell_type": "code",
   "execution_count": 32,
   "metadata": {},
   "outputs": [],
   "source": [
    "class BaselineModel:\n",
    "    def __init__(self, majority_cat=0):\n",
    "        self.cat = 0\n",
    "    \n",
    "    def predict_proba(self, X=None, size=None):\n",
    "        \"\"\"Param X: matrix of shape (nRows, nFeatures)\"\"\"\n",
    "        p = 0.01 if self.cat == 0 else 0.99\n",
    "        if X is not None:\n",
    "            return np.repeat(p, X.shape[0])\n",
    "        if size is not None :\n",
    "            return np.repeat(p, size)\n",
    "\n",
    "    def predict(self, X=None, size=None):\n",
    "        \"\"\"Param X: matrix of shape (nRows, nFeatures)\"\"\"\n",
    "        if X is not None:\n",
    "            return np.repeat(self.cat, X.shape[0])\n",
    "        if size is not None:\n",
    "            return np.repeat(self.cat, size)"
   ]
  },
  {
   "cell_type": "code",
   "execution_count": 33,
   "metadata": {},
   "outputs": [],
   "source": [
    "class RandomModel:\n",
    "    def __init__(self):\n",
    "        pass\n",
    "\n",
    "    def predict_proba(self, X=None, size=None):\n",
    "        \"\"\"Param X: matrix of shape (nRows, nFeatures)\"\"\"\n",
    "        if X is not None:\n",
    "            return np.random.uniform(0, 1, size=X.shape[0])\n",
    "        if size is not None:\n",
    "            return np.random.uniform(0, 1, size=size)\n",
    "\n",
    "    def predict(self, X=None, size=None):\n",
    "        \"\"\"Param X: matrix of shape (nRows, nFeatures)\"\"\"\n",
    "        if X is not None:\n",
    "            y = self.predict_proba(X=X) >= 0.5\n",
    "        if size is not None:\n",
    "            y = self.predict_proba(size=size) >= 0.5\n",
    "        return y.astype(int)"
   ]
  },
  {
   "cell_type": "markdown",
   "metadata": {},
   "source": [
    "#### As you'll see, even a baseline model can achieve 74% Test accuracy "
   ]
  },
  {
   "cell_type": "code",
   "execution_count": 34,
   "metadata": {},
   "outputs": [
    {
     "name": "stdout",
     "output_type": "stream",
     "text": [
      "Accuracy (baseline):\n",
      "Training: 0.7304\n",
      "Validation: 0.7417\n",
      "Test: 0.7402\n"
     ]
    }
   ],
   "source": [
    "model_baseline = BaselineModel(majority_cat=0)\n",
    "\n",
    "y_train_pred_baseline = model_baseline.predict_proba(size=len(df_train))\n",
    "y_valid_pred_baseline = model_baseline.predict_proba(size=len(df_valid))\n",
    "y_test_pred_baseline = model_baseline.predict_proba(size=len(df_test))\n",
    "\n",
    "print(\"Accuracy (baseline):\")\n",
    "print(f\"Training: {accuracy_score(y_train, y_train_pred_baseline>=0.5):.4f}\")\n",
    "print(f\"Validation: {accuracy_score(y_valid, y_valid_pred_baseline>=0.5):.4f}\")\n",
    "print(f\"Test: {accuracy_score(y_test, y_test_pred_baseline>=0.5):.4f}\")"
   ]
  },
  {
   "cell_type": "code",
   "execution_count": 35,
   "metadata": {},
   "outputs": [
    {
     "name": "stdout",
     "output_type": "stream",
     "text": [
      "Accuracy (random):\n",
      "Training: 0.5060\n",
      "Validation: 0.4748\n",
      "Test: 0.4833\n"
     ]
    }
   ],
   "source": [
    "model_random = RandomModel()\n",
    "\n",
    "y_train_pred_random = model_random.predict_proba(size=len(df_train))\n",
    "y_valid_pred_random = model_random.predict_proba(size=len(df_valid))\n",
    "y_test_pred_random = model_random.predict_proba(size=len(df_test))\n",
    "\n",
    "print(\"Accuracy (random):\")\n",
    "print(f\"Training: {accuracy_score(y_train, y_train_pred_random>=0.5):.4f}\")\n",
    "print(f\"Validation: {accuracy_score(y_valid, y_valid_pred_random>=0.5):.4f}\")\n",
    "print(f\"Test: {accuracy_score(y_test, y_test_pred_random>=0.5):.4f}\")"
   ]
  },
  {
   "cell_type": "markdown",
   "metadata": {},
   "source": [
    "## 4.2 Precision, Recall, F1\n",
    "\n",
    "For imbalanced classification cases (here, in the churn dataset, churns are only minority, 20%-ish), accuracy can be misleading. \n",
    "\n",
    "The quality of a classification model (here, logistic regression classifers) is better measured in terms of Precision and Recall.\n",
    "\n",
    "- Precision ~ (opposite of) False alarms of churns\n",
    "- Recall ~ (oppositie of) Missed detection of churns\n",
    "\n",
    "<table>\n",
    "<tr>\n",
    "    <th>Case</th>\n",
    "    <th>Abbrev</th>\n",
    "    <th>When</th> \n",
    "</tr>\n",
    "\n",
    "<tr>\n",
    "    <td>True Negative</td> \n",
    "    <td>TN</td> \n",
    "    <td>y_pred == 0 & y_true == 0</td>\n",
    "</tr>\n",
    "\n",
    "<tr>\n",
    "    <td>False Negative</td> \n",
    "    <td>FN</td> \n",
    "    <td>y_pred == 0 & y_true == 1</td>\n",
    "</tr>\n",
    "\n",
    "<tr>\n",
    "    <td>False Positive</td> \n",
    "    <td>FP</td> \n",
    "    <td>y_pred == 1 & y_true == 0</td>\n",
    "</tr>\n",
    "\n",
    "<tr>\n",
    "    <td>True Positive</td> \n",
    "    <td>TP</td> \n",
    "    <td>y_pred == 1 & y_true == 1</td>\n",
    "</tr>\n",
    "\n",
    "</table>\n",
    "\n",
    "\n",
    "\n",
    "$$\n",
    "\\begin{align*}\n",
    "\\mathrm{Precision} \n",
    "&= \\frac{\\text{Correct churn predictions}}{\\text{Total churn predictions}} =\n",
    "\\frac{\\mathrm{TP}}{\\mathrm{TP} + \\mathrm{FP}}\\\\ \\\\\n",
    "\\mathrm{Recall} \n",
    "&= \\frac{\\text{Correct churn predictions}}{\\text{Actual churns}} =\n",
    "\\frac{\\mathrm{TP}}{\\mathrm{TP} + \\mathrm{FN}}\\\\ \\\\\n",
    "\\mathrm{F1} \n",
    "&= \n",
    "\\frac{2 \\cdot \\mathrm{Precision} \\cdot \\mathrm{Recall}}{\\mathrm{Precision} + \\mathrm{Recall}}\n",
    "\\end{align*}\n",
    "$$"
   ]
  },
  {
   "cell_type": "code",
   "execution_count": 36,
   "metadata": {},
   "outputs": [],
   "source": [
    "def get_precision_recall_f1(y_true, y_pred, threshold=0.5):\n",
    "\n",
    "    max_pred = np.max(y_pred)\n",
    "    if threshold >= max_pred and max_pred >= 0.5:\n",
    "        threshold = max_pred\n",
    "\n",
    "    true_positive = np.sum((y_pred >= threshold) & (y_true == 1))\n",
    "    false_positive = np.sum((y_pred >= threshold) & (y_true == 0))\n",
    "    false_negative = np.sum((y_pred < threshold) & (y_true == 1))\n",
    "    true_negative = np.sum((y_pred < threshold) & (y_true == 0))\n",
    "\n",
    "    precision = true_positive / (true_positive + false_positive)\n",
    "    recall = true_positive / (true_positive + false_negative)\n",
    "    f1 = 2 * precision * recall / (precision + recall)\n",
    "    \n",
    "    return precision, recall, f1"
   ]
  },
  {
   "cell_type": "code",
   "execution_count": 37,
   "metadata": {},
   "outputs": [
    {
     "name": "stdout",
     "output_type": "stream",
     "text": [
      "Model's validation performance:\n",
      "Precision: 0.6711\n",
      "Recall: 0.5549\n",
      "F1: 0.6075\n",
      "\n",
      "\n",
      "Model's test performance:\n",
      "Precision: 0.6326\n",
      "Recall: 0.5410\n",
      "F1: 0.5832\n"
     ]
    }
   ],
   "source": [
    "# Model's validation performance\n",
    "precision, recall, f1 = get_precision_recall_f1(y_valid, y_valid_pred)\n",
    "print(f\"Model's validation performance:\")\n",
    "print(f\"Precision: {precision:.4f}\\nRecall: {recall:.4f}\\nF1: {f1:.4f}\")\n",
    "\n",
    "print(\"\\n\")\n",
    "\n",
    "# Model's test performance\n",
    "precision, recall, f1 = get_precision_recall_f1(y_test, y_test_pred)\n",
    "print(f\"Model's test performance:\")\n",
    "print(f\"Precision: {precision:.4f}\\nRecall: {recall:.4f}\\nF1: {f1:.4f}\")"
   ]
  },
  {
   "cell_type": "code",
   "execution_count": 38,
   "metadata": {},
   "outputs": [
    {
     "name": "stdout",
     "output_type": "stream",
     "text": [
      "Model (small)'s validation performance:\n",
      "Precision: 0.5789\n",
      "Recall: 0.4835\n",
      "F1: 0.5269\n",
      "\n",
      "\n",
      "Model (small)'s test performance:\n",
      "Precision: 0.5908\n",
      "Recall: 0.5246\n",
      "F1: 0.5557\n"
     ]
    }
   ],
   "source": [
    "# Smaller Model's validation performance\n",
    "precision, recall, f1 = get_precision_recall_f1(y_valid, y_valid_pred_small)\n",
    "print(f\"Model (small)'s validation performance:\")\n",
    "print(f\"Precision: {precision:.4f}\\nRecall: {recall:.4f}\\nF1: {f1:.4f}\")\n",
    "\n",
    "print(\"\\n\")\n",
    "\n",
    "# Small Model's test performance\n",
    "precision, recall, f1 = get_precision_recall_f1(y_test, y_test_pred_small)\n",
    "print(f\"Model (small)'s test performance:\")\n",
    "print(f\"Precision: {precision:.4f}\\nRecall: {recall:.4f}\\nF1: {f1:.4f}\")"
   ]
  },
  {
   "cell_type": "code",
   "execution_count": 39,
   "metadata": {},
   "outputs": [
    {
     "name": "stdout",
     "output_type": "stream",
     "text": [
      "Model (baseline)'s validation performance:\n",
      "Precision: nan\n",
      "Recall: 0.0000\n",
      "F1: nan\n",
      "\n",
      "\n",
      "Model (baseline)'s test performance:\n",
      "Precision: nan\n",
      "Recall: 0.0000\n",
      "F1: nan\n"
     ]
    },
    {
     "name": "stderr",
     "output_type": "stream",
     "text": [
      "C:\\Users\\james\\AppData\\Local\\Temp/ipykernel_14468/3737506007.py:12: RuntimeWarning: invalid value encountered in long_scalars\n",
      "  precision = true_positive / (true_positive + false_positive)\n"
     ]
    }
   ],
   "source": [
    "# Baseline Model's validation performance\n",
    "precision, recall, f1 = get_precision_recall_f1(y_valid, y_valid_pred_baseline)\n",
    "print(f\"Model (baseline)'s validation performance:\")\n",
    "print(f\"Precision: {precision:.4f}\\nRecall: {recall:.4f}\\nF1: {f1:.4f}\")\n",
    "\n",
    "print(\"\\n\")\n",
    "\n",
    "# Baseline Model's test performance\n",
    "precision, recall, f1 = get_precision_recall_f1(y_test, y_test_pred_baseline)\n",
    "print(f\"Model (baseline)'s test performance:\")\n",
    "print(f\"Precision: {precision:.4f}\\nRecall: {recall:.4f}\\nF1: {f1:.4f}\")"
   ]
  },
  {
   "cell_type": "code",
   "execution_count": 40,
   "metadata": {},
   "outputs": [
    {
     "name": "stdout",
     "output_type": "stream",
     "text": [
      "Model (random)'s validation performance:\n",
      "Precision: 0.2322\n",
      "Recall: 0.4478\n",
      "F1: 0.3058\n",
      "\n",
      "\n",
      "Model (random)'s test performance:\n",
      "Precision: 0.2444\n",
      "Recall: 0.4727\n",
      "F1: 0.3222\n"
     ]
    }
   ],
   "source": [
    "# Random Model's validation performance\n",
    "precision, recall, f1 = get_precision_recall_f1(y_valid, y_valid_pred_random)\n",
    "print(f\"Model (random)'s validation performance:\")\n",
    "print(f\"Precision: {precision:.4f}\\nRecall: {recall:.4f}\\nF1: {f1:.4f}\")\n",
    "\n",
    "print(\"\\n\")\n",
    "\n",
    "# Random Model's test performance\n",
    "precision, recall, f1 = get_precision_recall_f1(y_test, y_test_pred_random)\n",
    "print(f\"Model (random)'s test performance:\")\n",
    "print(f\"Precision: {precision:.4f}\\nRecall: {recall:.4f}\\nF1: {f1:.4f}\")"
   ]
  },
  {
   "cell_type": "markdown",
   "metadata": {},
   "source": [
    "## 4.3 Threshold: Accuracy, Precision, Recall, F1 are evalued relative to threshold"
   ]
  },
  {
   "cell_type": "code",
   "execution_count": 41,
   "metadata": {},
   "outputs": [
    {
     "name": "stdout",
     "output_type": "stream",
     "text": [
      "Model validation performance:\n",
      "Acuracy: 0.8020\n",
      "Precision: 0.6190\n",
      "Recall: 0.6071\n",
      "F1: 0.6130\n"
     ]
    }
   ],
   "source": [
    "# Model's validation performance\n",
    "accu = accuracy_score(y_valid, y_valid_pred>=0.44)\n",
    "precision, recall, f1 = get_precision_recall_f1(y_valid, y_valid_pred, threshold=0.44)\n",
    "print(f\"Model validation performance:\")\n",
    "print(\"Acuracy:\", f\"{accu:.4f}\")\n",
    "print(f\"Precision: {precision:.4f}\\nRecall: {recall:.4f}\\nF1: {f1:.4f}\")"
   ]
  },
  {
   "cell_type": "markdown",
   "metadata": {},
   "source": [
    "#### Write a function to get a table of {accuracy, precision, recall, F1} versus different thresholds"
   ]
  },
  {
   "cell_type": "code",
   "execution_count": 42,
   "metadata": {},
   "outputs": [],
   "source": [
    "def get_accuracy_precision_recall_f1_dataframe(y_true, y_pred, n_thresholds=101):\n",
    "    scores = []\n",
    "    thresholds = np.linspace(0, 1, n_thresholds)\n",
    "    for theta in thresholds:\n",
    "        accu = accuracy_score(y_true, y_pred >= theta)\n",
    "        precision, recall, f1 = get_precision_recall_f1(y_true, y_pred, theta)\n",
    "        scores.append([theta, accu, precision, recall, f1])\n",
    "    df_score = pd.DataFrame(\n",
    "        scores,\n",
    "        columns = ['Threshold', 'Accuracy', 'Precision', 'Recall', 'F1'])\n",
    "    return df_score"
   ]
  },
  {
   "cell_type": "code",
   "execution_count": 43,
   "metadata": {},
   "outputs": [
    {
     "data": {
      "text/html": [
       "<div>\n",
       "<style scoped>\n",
       "    .dataframe tbody tr th:only-of-type {\n",
       "        vertical-align: middle;\n",
       "    }\n",
       "\n",
       "    .dataframe tbody tr th {\n",
       "        vertical-align: top;\n",
       "    }\n",
       "\n",
       "    .dataframe thead th {\n",
       "        text-align: right;\n",
       "    }\n",
       "</style>\n",
       "<table border=\"1\" class=\"dataframe\">\n",
       "  <thead>\n",
       "    <tr style=\"text-align: right;\">\n",
       "      <th></th>\n",
       "      <th>Threshold</th>\n",
       "      <th>Accuracy</th>\n",
       "      <th>Precision</th>\n",
       "      <th>Recall</th>\n",
       "      <th>F1</th>\n",
       "    </tr>\n",
       "  </thead>\n",
       "  <tbody>\n",
       "    <tr>\n",
       "      <th>0</th>\n",
       "      <td>0.00</td>\n",
       "      <td>0.258339</td>\n",
       "      <td>0.258339</td>\n",
       "      <td>1.000000</td>\n",
       "      <td>0.410603</td>\n",
       "    </tr>\n",
       "    <tr>\n",
       "      <th>1</th>\n",
       "      <td>0.01</td>\n",
       "      <td>0.368346</td>\n",
       "      <td>0.289263</td>\n",
       "      <td>0.991758</td>\n",
       "      <td>0.447891</td>\n",
       "    </tr>\n",
       "    <tr>\n",
       "      <th>2</th>\n",
       "      <td>0.02</td>\n",
       "      <td>0.430092</td>\n",
       "      <td>0.309957</td>\n",
       "      <td>0.983516</td>\n",
       "      <td>0.471363</td>\n",
       "    </tr>\n",
       "    <tr>\n",
       "      <th>3</th>\n",
       "      <td>0.03</td>\n",
       "      <td>0.465578</td>\n",
       "      <td>0.323021</td>\n",
       "      <td>0.975275</td>\n",
       "      <td>0.485304</td>\n",
       "    </tr>\n",
       "    <tr>\n",
       "      <th>4</th>\n",
       "      <td>0.04</td>\n",
       "      <td>0.488999</td>\n",
       "      <td>0.332707</td>\n",
       "      <td>0.972527</td>\n",
       "      <td>0.495798</td>\n",
       "    </tr>\n",
       "    <tr>\n",
       "      <th>...</th>\n",
       "      <td>...</td>\n",
       "      <td>...</td>\n",
       "      <td>...</td>\n",
       "      <td>...</td>\n",
       "      <td>...</td>\n",
       "    </tr>\n",
       "    <tr>\n",
       "      <th>96</th>\n",
       "      <td>0.96</td>\n",
       "      <td>0.741661</td>\n",
       "      <td>1.000000</td>\n",
       "      <td>0.002747</td>\n",
       "      <td>0.005479</td>\n",
       "    </tr>\n",
       "    <tr>\n",
       "      <th>97</th>\n",
       "      <td>0.97</td>\n",
       "      <td>0.741661</td>\n",
       "      <td>1.000000</td>\n",
       "      <td>0.002747</td>\n",
       "      <td>0.005479</td>\n",
       "    </tr>\n",
       "    <tr>\n",
       "      <th>98</th>\n",
       "      <td>0.98</td>\n",
       "      <td>0.741661</td>\n",
       "      <td>1.000000</td>\n",
       "      <td>0.002747</td>\n",
       "      <td>0.005479</td>\n",
       "    </tr>\n",
       "    <tr>\n",
       "      <th>99</th>\n",
       "      <td>0.99</td>\n",
       "      <td>0.741661</td>\n",
       "      <td>1.000000</td>\n",
       "      <td>0.002747</td>\n",
       "      <td>0.005479</td>\n",
       "    </tr>\n",
       "    <tr>\n",
       "      <th>100</th>\n",
       "      <td>1.00</td>\n",
       "      <td>0.741661</td>\n",
       "      <td>1.000000</td>\n",
       "      <td>0.002747</td>\n",
       "      <td>0.005479</td>\n",
       "    </tr>\n",
       "  </tbody>\n",
       "</table>\n",
       "<p>101 rows × 5 columns</p>\n",
       "</div>"
      ],
      "text/plain": [
       "     Threshold  Accuracy  Precision    Recall        F1\n",
       "0         0.00  0.258339   0.258339  1.000000  0.410603\n",
       "1         0.01  0.368346   0.289263  0.991758  0.447891\n",
       "2         0.02  0.430092   0.309957  0.983516  0.471363\n",
       "3         0.03  0.465578   0.323021  0.975275  0.485304\n",
       "4         0.04  0.488999   0.332707  0.972527  0.495798\n",
       "..         ...       ...        ...       ...       ...\n",
       "96        0.96  0.741661   1.000000  0.002747  0.005479\n",
       "97        0.97  0.741661   1.000000  0.002747  0.005479\n",
       "98        0.98  0.741661   1.000000  0.002747  0.005479\n",
       "99        0.99  0.741661   1.000000  0.002747  0.005479\n",
       "100       1.00  0.741661   1.000000  0.002747  0.005479\n",
       "\n",
       "[101 rows x 5 columns]"
      ]
     },
     "execution_count": 43,
     "metadata": {},
     "output_type": "execute_result"
    }
   ],
   "source": [
    "model_scores_precision_recall_f1 = get_accuracy_precision_recall_f1_dataframe(y_valid, y_valid_pred)\n",
    "model_scores_precision_recall_f1"
   ]
  },
  {
   "cell_type": "code",
   "execution_count": 44,
   "metadata": {},
   "outputs": [],
   "source": [
    "from matplotlib import pyplot as plt \n",
    "%matplotlib inline"
   ]
  },
  {
   "cell_type": "code",
   "execution_count": 45,
   "metadata": {},
   "outputs": [
    {
     "data": {
      "text/plain": [
       "Text(0.5, 1.0, 'Precision, Recall, F1 vs. Threshold')"
      ]
     },
     "execution_count": 45,
     "metadata": {},
     "output_type": "execute_result"
    },
    {
     "data": {
      "image/png": "[encoded data removed]",
      "text/plain": [
       "<Figure size 1440x576 with 2 Axes>"
      ]
     },
     "metadata": {
      "needs_background": "light"
     },
     "output_type": "display_data"
    }
   ],
   "source": [
    "fig, ax = plt.subplots(1, 2, figsize=(20, 8))\n",
    "\n",
    "x = model_scores_precision_recall_f1['Threshold']\n",
    "y = model_scores_precision_recall_f1['Accuracy']\n",
    "ax[0].plot(x, y)\n",
    "ax[0].grid()\n",
    "ax[0].set_xticks(np.linspace(0, 1, 11))\n",
    "ax[0].set_xlabel('Threshold')\n",
    "ax[0].set_ylabel('Accuracy')\n",
    "ax[0].set_title('Accuracy vs. Threshold')\n",
    "\n",
    "x = model_scores_precision_recall_f1['Threshold']\n",
    "y1 = model_scores_precision_recall_f1['Precision']\n",
    "y2 = model_scores_precision_recall_f1['Recall']\n",
    "y3 = model_scores_precision_recall_f1['F1']\n",
    "ax[1].plot(x, y1, 'r', label='Precision')\n",
    "ax[1].plot(x, y2, 'b', label='Recall')\n",
    "ax[1].plot(x, y3, 'g', label='F1')\n",
    "ax[1].grid()\n",
    "ax[1].legend()\n",
    "ax[1].set_xticks(np.linspace(0, 1, 11))\n",
    "ax[1].set_xlabel('Threshold')\n",
    "ax[1].set_title('Precision, Recall, F1 vs. Threshold')"
   ]
  },
  {
   "cell_type": "markdown",
   "metadata": {},
   "source": [
    "## 4.4 True Positive Rate, False Positive Rate, ROC and AUC\n",
    "\n",
    "<table>\n",
    "<tr>\n",
    "    <th>Case</th>\n",
    "    <th>Abbrev</th>\n",
    "    <th>When</th> \n",
    "</tr>\n",
    "\n",
    "<tr>\n",
    "    <td>True Negative</td> \n",
    "    <td>TN</td> \n",
    "    <td>y_pred == 0 & y_true == 0</td>\n",
    "</tr>\n",
    "\n",
    "<tr>\n",
    "    <td>False Negative</td> \n",
    "    <td>FN</td> \n",
    "    <td>y_pred == 0 & y_true == 1</td>\n",
    "</tr>\n",
    "\n",
    "<tr>\n",
    "    <td>False Positive</td> \n",
    "    <td>FP</td> \n",
    "    <td>y_pred == 1 & y_true == 0</td>\n",
    "</tr>\n",
    "\n",
    "<tr>\n",
    "    <td>True Positive</td> \n",
    "    <td>TP</td> \n",
    "    <td>y_pred == 1 & y_true == 1</td>\n",
    "</tr>\n",
    "\n",
    "</table>\n",
    "\n",
    "- False Positive Rate (FPR): fraction of False Positives among all actual negatives\n",
    "    > $$\\mathrm{FPR} = \\frac{\\mathrm{FP}}{\\mathrm{FP} + \\mathrm{TN}}$$ \n",
    "    > In English: fraction of incorrectly predicted churns among all those who didn't churn\n",
    "\n",
    "- True Positive Rate (TPR): fraction of True Positives among all actual positives\n",
    "    > $$\\mathrm{TPR} = \\frac{\\mathrm{TP}}{\\mathrm{TP} + \\mathrm{FN}} = \\mathrm{Recall}$$\n",
    "    > In English: fraction of correctly predicted churns among all those who churned\n",
    "\n",
    "- ROC: Receiver Operating Characteristics\n",
    "    > - $\\mathrm{TPR}$ versus $\\mathrm{FPR}$\n",
    "    > - Historically, designed for evaluating radar detectors during WWII: how well a radar could separate two signals, an airplane was there or not\n",
    "    > - Today, used for similar purposes: how well a binary classification model can separate two classes (churn vs non-churn) \n",
    "    > - Useful to compare two classifiers (visually!)\n",
    "- AUC: Area under Curve (the ROC curve)\n",
    "    > - A single number summary of ROC (between 0 and 1)\n",
    "    > - Probablity interpretation: how well the model separates two classes (here, churning vs non-churning) $$\\mathrm{AUC} \\approx \\mathrm{Prob}\\left[\\hat{y}_{\\left(\\text{random Positive example}\\right)} > \\hat{y}_{\\left(\\text{random Negative example}\\right)}\\right]$$"
   ]
  },
  {
   "cell_type": "code",
   "execution_count": 46,
   "metadata": {},
   "outputs": [],
   "source": [
    "def get_tpr_fpr_dataframe(y_true, y_pred, n_thresholds=101):\n",
    "    scores = []\n",
    "    \n",
    "    thresholds = np.linspace(0, 1, n_thresholds)\n",
    "\n",
    "    for theta in thresholds:\n",
    "        tp = np.sum((y_pred >= theta) & (y_true == 1))\n",
    "        fp = np.sum((y_pred >= theta) & (y_true == 0))\n",
    "        fn = np.sum((y_pred < theta) & (y_true == 1))\n",
    "        tn = np.sum((y_pred < theta) & (y_true == 0))\n",
    "        scores.append([theta, tp, fp, fn, tn])\n",
    "    \n",
    "    df_scores = pd.DataFrame(\n",
    "        scores, \n",
    "        columns=['Threshold', 'TP', 'FP', 'FN', 'TN'])\n",
    "\n",
    "    df_scores['TPR'] = df_scores['TP']/(df_scores['TP'] + df_scores['FN'])\n",
    "    df_scores['FPR'] = df_scores['FP']/(df_scores['FP'] + df_scores['TN'])\n",
    "\n",
    "    return df_scores"
   ]
  },
  {
   "cell_type": "markdown",
   "metadata": {},
   "source": [
    "#### So far we have a model, a small model, a random model. For comparison, let's also have an ideal model.\n",
    "\n",
    "- An ideal model assumes ideal datasets to begin with! That is, the ideal dataset comes with churns that are already ordered: [0, 0, 0, ..., 1, 1, 1]"
   ]
  },
  {
   "cell_type": "code",
   "execution_count": 47,
   "metadata": {},
   "outputs": [],
   "source": [
    "class IdealModel():\n",
    "    def __init__(self, ideal_y_true):\n",
    "        self.n_neg = np.sum(ideal_y_true == 0)\n",
    "        self.n_pos = np.sum(ideal_y_true == 1)\n",
    "    \n",
    "    def predict_proba(self):\n",
    "        return np.linspace(0, 1, self.n_neg + self.n_pos)\n",
    "    \n",
    "    def predict(self):\n",
    "        return np.repeat([0, 1], [self.n_neg, self.n_pos])"
   ]
  },
  {
   "cell_type": "code",
   "execution_count": 48,
   "metadata": {},
   "outputs": [],
   "source": [
    "y_valid_ideal = np.sort(y_valid)\n",
    "\n",
    "model_ideal = IdealModel(y_valid_ideal)\n",
    "y_valid_pred_ideal = model_ideal.predict_proba()"
   ]
  },
  {
   "cell_type": "code",
   "execution_count": 49,
   "metadata": {},
   "outputs": [
    {
     "data": {
      "image/png": "[encoded data removed]",
      "text/plain": [
       "<Figure size 432x288 with 1 Axes>"
      ]
     },
     "metadata": {
      "needs_background": "light"
     },
     "output_type": "display_data"
    }
   ],
   "source": [
    "plt.plot(y_valid_ideal, label='Actual cases (0 or 1) ideally arranged')\n",
    "plt.plot(y_valid_pred_ideal, label='Ideally predicted probabilities')\n",
    "plt.legend()\n",
    "plt.xlabel('Samples');"
   ]
  },
  {
   "cell_type": "markdown",
   "metadata": {},
   "source": [
    "### Now compare models: {model_ideal, model, model_small, model_random}"
   ]
  },
  {
   "cell_type": "code",
   "execution_count": 50,
   "metadata": {},
   "outputs": [],
   "source": [
    "model_ideal_scores = get_tpr_fpr_dataframe(y_valid_ideal, y_valid_pred_ideal)\n",
    "model_scores = get_tpr_fpr_dataframe(y_valid, y_valid_pred)\n",
    "model_small_scores = get_tpr_fpr_dataframe(y_valid, y_valid_pred_small)\n",
    "model_random_scores = get_tpr_fpr_dataframe(y_valid, y_valid_pred_random)"
   ]
  },
  {
   "cell_type": "code",
   "execution_count": 51,
   "metadata": {},
   "outputs": [
    {
     "data": {
      "image/png": "[encoded data removed]",
      "text/plain": [
       "<Figure size 1728x432 with 4 Axes>"
      ]
     },
     "metadata": {
      "needs_background": "light"
     },
     "output_type": "display_data"
    }
   ],
   "source": [
    "fig, ax = plt.subplots(1, 4, figsize=(24, 6))\n",
    "\n",
    "x = model_ideal_scores['Threshold']\n",
    "y1 = model_ideal_scores['TPR']\n",
    "y2 = model_ideal_scores['FPR']\n",
    "ax[0].plot(x, y1, linestyle='solid', label='TPR')\n",
    "ax[0].plot(x, y2, linestyle='dashed', label='FPR')\n",
    "ax[0].legend()\n",
    "ax[0].set_title('Ideal Classifier')\n",
    "ax[0].set_xlabel('Threshold')\n",
    "\n",
    "x = model_scores['Threshold']\n",
    "y1 = model_scores['TPR']\n",
    "y2 = model_scores['FPR']\n",
    "ax[1].plot(x, y1, linestyle='solid', label='TPR')\n",
    "ax[1].plot(x, y2, linestyle='dashed', label='FPR')\n",
    "ax[1].legend()\n",
    "ax[1].set_title('Logistic Regression Classifier')\n",
    "ax[1].set_xlabel('Threshold')\n",
    "\n",
    "x = model_small_scores['Threshold']\n",
    "y1 = model_small_scores['TPR']\n",
    "y2 = model_small_scores['FPR']\n",
    "ax[2].plot(x, y1, linestyle='solid', label='TPR')\n",
    "ax[2].plot(x, y2, linestyle='dashed', label='FPR')\n",
    "ax[2].legend()\n",
    "ax[2].set_title('Logistic Regression Classifier (small)')\n",
    "ax[2].set_xlabel('Threshold')\n",
    "\n",
    "x = model_random_scores['Threshold']\n",
    "y1 = model_random_scores['TPR']\n",
    "y2 = model_random_scores['FPR']\n",
    "ax[3].plot(x, y1, linestyle='solid', label='TPR')\n",
    "ax[3].plot(x, y2, linestyle='dashed', label='FPR')\n",
    "ax[3].legend()\n",
    "ax[3].set_title('Random Classifier')\n",
    "ax[3].set_xlabel('Threshold')\n",
    "\n",
    "plt.show()"
   ]
  },
  {
   "cell_type": "code",
   "execution_count": 52,
   "metadata": {},
   "outputs": [
    {
     "data": {
      "image/png": "[encoded data removed]",
      "text/plain": [
       "<Figure size 720x720 with 1 Axes>"
      ]
     },
     "metadata": {
      "needs_background": "light"
     },
     "output_type": "display_data"
    }
   ],
   "source": [
    "## ROC curve \n",
    "\n",
    "plt.figure(figsize=(10, 10))\n",
    "\n",
    "x, y = model_ideal_scores['FPR'], model_ideal_scores['TPR']\n",
    "plt.plot(x, y, linestyle='solid', linewidth=2, label='Ideal Classifier')\n",
    "\n",
    "x, y = model_scores['FPR'], model_scores['TPR']\n",
    "plt.plot(x, y, linestyle='solid', linewidth=2, label='Logistic Regression Classifier')\n",
    "\n",
    "x, y = model_small_scores['FPR'], model_small_scores['TPR']\n",
    "plt.plot(x, y, linestyle='solid', linewidth=2, label='Logistic Regression Classifier (Small)')\n",
    "\n",
    "x, y = model_random_scores['FPR'], model_random_scores['TPR']\n",
    "plt.plot(x, y, linestyle='solid', linewidth=2, label='Random Classifier')\n",
    "\n",
    "plt.legend()\n",
    "\n",
    "plt.title('ROC Curve')\n",
    "plt.xlabel('False Positive Rate (FPR)')\n",
    "plt.ylabel('True Positive Rate (TPR)')\n",
    "\n",
    "plt.show()"
   ]
  },
  {
   "cell_type": "code",
   "execution_count": 53,
   "metadata": {},
   "outputs": [],
   "source": [
    "from sklearn.metrics import roc_auc_score"
   ]
  },
  {
   "cell_type": "code",
   "execution_count": 54,
   "metadata": {},
   "outputs": [
    {
     "name": "stdout",
     "output_type": "stream",
     "text": [
      "Area under ROC curve (ROC_AUC Score) Validation Scores:\n",
      "Ideal classifier:\t\t\t1.0000\n",
      "Logistic Regression classifier:\t\t0.8443\n",
      "Logistic Regression classifier (small):\t0.8053\n",
      "Random classifier:\t\t\t0.4758\n"
     ]
    }
   ],
   "source": [
    "print(\"Area under ROC curve (ROC_AUC Score) Validation Scores:\")\n",
    "print(f\"Ideal classifier:\\t\\t\\t{roc_auc_score(y_valid_ideal, y_valid_pred_ideal):.4f}\")\n",
    "print(f\"Logistic Regression classifier:\\t\\t{roc_auc_score(y_valid, y_valid_pred):.4f}\")\n",
    "print(f\"Logistic Regression classifier (small):\\t{roc_auc_score(y_valid, y_valid_pred_small):.4f}\")\n",
    "print(f\"Random classifier:\\t\\t\\t{roc_auc_score(y_valid, y_valid_pred_random):.4f}\")"
   ]
  },
  {
   "cell_type": "code",
   "execution_count": 55,
   "metadata": {},
   "outputs": [
    {
     "name": "stdout",
     "output_type": "stream",
     "text": [
      "Test:\n",
      "Accuracy: 0.7991\n",
      "AUC ROC: 0.8342\n"
     ]
    }
   ],
   "source": [
    "accu = accuracy_score(y_test, y_test_pred >= 0.5)\n",
    "print(\"Test:\")\n",
    "print(f\"Accuracy: {accu:.4f}\")\n",
    "print(f\"AUC ROC: {roc_auc_score(y_test, y_test_pred):.4f}\")"
   ]
  },
  {
   "cell_type": "markdown",
   "metadata": {},
   "source": [
    "## 5. K-fold Cross Validation \n",
    "Find the \"best\" model (hyper)parameter(s) using cross-validation\n",
    "\n",
    "Model(W; C). What is a good choice of C?\n",
    "\n",
    "#### Example: use three-fold crross-validation to choose best C from $\\left\\{C[0], C[1], ... C[i], ...\\right\\}$\n",
    "> Three-fold cross-validation:\n",
    "> - Outer Loop: For each $C[i]$,\n",
    ">   - Inner Loop: Three iterations (why three? Three-fold cross-validation.)\n",
    ">       - Original $\\boxed{ \\boxed{\\text{Train}} + \\boxed{\\text{Valid}} }$ dataset $\\rightarrow$ $\\boxed{\\text{Fold} 1}, \\boxed{\\text{Fold} 2}, \\boxed{\\text{Fold} 3}$\n",
    ">       - Iter 1: Train $\\text{Model}(\\vec{w}; C[i])$ on $\\boxed{\\text{train}} = \\boxed{ \\boxed{\\text{Fold} 1} + \\boxed{\\text{Fold} 2} }$, evaluate on $\\boxed{\\text{Valid}} = \\boxed{\\text{Fold} 3}$, record eval score $s_{1}$\n",
    ">       - Iter 2: Train $\\text{Model}(\\vec{w}; C[i])$ on $\\boxed{\\text{train}} = \\boxed{ \\boxed{\\text{Fold} 1} + \\boxed{\\text{Fold} 3} }$, evaluate on $\\boxed{\\text{Valid}} = \\boxed{\\text{Fold} 2}$, record eval score $s_{2}$\n",
    ">       - Iter 3: Train $\\text{Model}(\\vec{w}; C[i])$ on $\\boxed{\\text{train}} = \\boxed{ \\boxed{\\text{Fold} 2} + \\boxed{\\text{Fold} 3} }$, evaluate on $\\boxed{\\text{Valid}} = \\boxed{\\text{Fold} 1}$, record eval score $s_{3}$\n",
    ">   - Record $\\mathrm{metric(C[i])} = \\mathrm{avg}(s_{1}, s_{2}, s_{3})$\n",
    "> - Find which $C[i]$ gives the best performance by looking at $\\left\\{\\mathrm{metric}(C[i]), \\text{for all } i \\right\\}$. Call this best choice $C^{*}$.\n",
    "> - Finally, re-train a model with $C^{*}$ (the best) on the full {Train + Valid} dataset. This model, $\\mathrm{Model}\\left(\\vec{w}; C^{*}\\right)$, will be $the$ (cross-)validated model ready to test/service.\n",
    "\n",
    "Versus, if we don't do cross-validation, but a simple validation, the program would look like:\n",
    "> Simplistic validation:\n",
    "> - (Just one) Loop: For each $C[i]$,\n",
    ">   - Train $\\text{Model}(\\vec{w}; C[i])$ on $\\boxed{\\text{Train}}$, evaluate on $\\boxed{\\text{Valid}}$, record eval score $s_{i}$\n",
    "> - Find which $C[i]$ gives the best performance by looking at $\\left\\{\\mathrm{metric}(C[i]), \\text{for all } i \\right\\}$.\n",
    "> - Re-train."
   ]
  },
  {
   "cell_type": "code",
   "execution_count": 56,
   "metadata": {},
   "outputs": [],
   "source": [
    "from sklearn.model_selection import KFold"
   ]
  },
  {
   "cell_type": "code",
   "execution_count": 57,
   "metadata": {},
   "outputs": [],
   "source": [
    "n_folds = 5\n",
    "\n",
    "kfold = KFold(n_splits=n_folds, shuffle=True, random_state=123)\n",
    "\n",
    "arrayC = [0.001, 0.01, 0.1, 0.5, 1, 10]\n",
    "\n",
    "metrics = []\n",
    "for C in arrayC:\n",
    "    \n",
    "    curr_metrics = []\n",
    "\n",
    "    for train_idx, valid_idx in kfold.split(df_train_full):\n",
    "        df_train = df_train_full.iloc[train_idx]\n",
    "        y_train = df_train['churn'].values \n",
    "\n",
    "        df_valid = df_train_full .iloc[valid_idx]\n",
    "        y_valid = df_valid['churn'].values \n",
    "\n",
    "        dict_vectorizer, model = train(df_train, y_train, C=C)\n",
    "\n",
    "        y_valid_pred = predict(df_valid, dict_vectorizer, model)\n",
    "\n",
    "        curr_metric = roc_auc_score(y_valid, y_valid_pred)\n",
    "        curr_metrics.append(curr_metric)\n",
    "\n",
    "    metrics.append((np.mean(curr_metrics), np.std(curr_metrics)))"
   ]
  },
  {
   "cell_type": "code",
   "execution_count": 58,
   "metadata": {},
   "outputs": [
    {
     "name": "stdout",
     "output_type": "stream",
     "text": [
      "C=0.001\t auc = 0.8293 +/- 0.0069\n",
      "C=0.01\t auc = 0.8459 +/- 0.0050\n",
      "C=0.1\t auc = 0.8472 +/- 0.0047\n",
      "C=0.5\t auc = 0.8472 +/- 0.0045\n",
      "C=1\t auc = 0.8471 +/- 0.0045\n",
      "C=10\t auc = 0.8473 +/- 0.0047\n"
     ]
    }
   ],
   "source": [
    "for i, C in enumerate(arrayC):\n",
    "    print(f\"C={C}\\t auc = {metrics[i][0]:.4f} +/- {metrics[i][1]:.4f}\")"
   ]
  },
  {
   "cell_type": "code",
   "execution_count": 59,
   "metadata": {},
   "outputs": [
    {
     "name": "stdout",
     "output_type": "stream",
     "text": [
      "C* Model\n",
      "Accuracy (P >= threshold 0.5)\n",
      "\tTrain: 0.8069\n",
      "\tTest: 0.8006\n",
      "AUC\n",
      "\tTrain: 0.8509\n",
      "\tTest: 0.8353\n"
     ]
    }
   ],
   "source": [
    "CStar = 0.5\n",
    "\n",
    "y_train_full = df_train_full['churn'].values\n",
    "\n",
    "y_test = df_test['churn'].values\n",
    "\n",
    "# Notice below: train with df_train_full (train +  valid), not df_train\n",
    "dict_vectorizer, model = train(df_train_full, y_train_full, C=CStar)\n",
    "y_train_pred_full = predict(df_train_full, dict_vectorizer, model)\n",
    "y_test_pred_full = predict(df_test, dict_vectorizer, model)\n",
    "\n",
    "auc_train_full = roc_auc_score(y_train_full, y_train_pred_full)\n",
    "auc_test = roc_auc_score(y_test, y_test_pred_full)\n",
    "\n",
    "print(\"C* Model\")\n",
    "\n",
    "print(\"Accuracy (P >= threshold 0.5)\")\n",
    "print(\"\\tTrain:\", f\"{accuracy_score(y_train_full, y_train_pred_full>=0.5):.4f}\"), \n",
    "print(\"\\tTest:\", f\"{accuracy_score(y_test, y_test_pred_full>=0.5):.4f}\")\n",
    "\n",
    "print('AUC')\n",
    "print(\"\\tTrain:\", f\"{auc_train_full:.4f}\")\n",
    "print(\"\\tTest:\", f\"{auc_test:.4f}\")"
   ]
  },
  {
   "cell_type": "code",
   "execution_count": 60,
   "metadata": {},
   "outputs": [],
   "source": [
    "model_cv_train_scores = get_accuracy_precision_recall_f1_dataframe(y_train_full, y_train_pred_full, n_thresholds=101)\n",
    "model_cv_test_scores = get_accuracy_precision_recall_f1_dataframe(y_test, y_test_pred_full, n_thresholds=101)"
   ]
  },
  {
   "cell_type": "code",
   "execution_count": 61,
   "metadata": {},
   "outputs": [
    {
     "data": {
      "image/png": "[encoded data removed]",
      "text/plain": [
       "<Figure size 1440x576 with 2 Axes>"
      ]
     },
     "metadata": {
      "needs_background": "light"
     },
     "output_type": "display_data"
    }
   ],
   "source": [
    "fig, ax = plt.subplots(1, 2, figsize=(20, 8))\n",
    "\n",
    "x = model_cv_train_scores['Threshold']\n",
    "y = model_cv_train_scores['Accuracy']\n",
    "ax[0].plot(x, y, 'b:', label='Train Accuracy')\n",
    "x = model_cv_test_scores['Threshold']\n",
    "y = model_cv_test_scores['Accuracy']\n",
    "ax[0].plot(x, y, 'b', label='Test Accuracy')\n",
    "ax[0].grid()\n",
    "ax[0].legend()\n",
    "ax[0].set_xticks(np.linspace(0, 1, 11))\n",
    "ax[0].set_xlabel('Threshold')\n",
    "ax[0].set_ylabel('Accuracy')\n",
    "ax[0].set_title('Accuracy vs. Threshold')\n",
    "\n",
    "x  = model_cv_train_scores['Threshold']\n",
    "y1 = model_cv_train_scores['Precision']\n",
    "y2 = model_cv_train_scores['Recall']\n",
    "y3 = model_cv_train_scores['F1']\n",
    "ax[1].plot(x, y1, 'r:', label='Train Precision')\n",
    "ax[1].plot(x, y2, 'b:', label='Train Recall')\n",
    "ax[1].plot(x, y3, 'g:', label='Train F1')\n",
    "x  = model_cv_test_scores['Threshold']\n",
    "y1 = model_cv_test_scores['Precision']\n",
    "y2 = model_cv_test_scores['Recall']\n",
    "y3 = model_cv_test_scores['F1']\n",
    "ax[1].plot(x, y1, 'r', label='Test Precision')\n",
    "ax[1].plot(x, y2, 'b', label='Test Recall')\n",
    "ax[1].plot(x, y3, 'g', label='Test F1')\n",
    "ax[1].grid()\n",
    "ax[1].legend()\n",
    "ax[1].set_xticks(np.linspace(0, 1, 11))\n",
    "ax[1].set_xlabel('Threshold')\n",
    "ax[1].set_title('Precision, Recall, F1 vs. Threshold');"
   ]
  },
  {
   "cell_type": "markdown",
   "metadata": {},
   "source": [
    "## Next step: Model Serving/Deploying:\n",
    "- Store key artifacts: {dict_vectorizer, model}\n",
    "- Containerize {cross_validate.py, train.py, predict.py}\n",
    "    - Sort out system dependency issues\n",
    "- Construct Webservices:\n",
    "    - a backend API that calls cross_validate() and train() when model update is needed\n",
    "    - a frontend API that calls predict() when prediction is needed so that prediction is easy to consume\n",
    "- Host the production services\n",
    "    - Not on your laptops!\n",
    "- Model monitoring, maintenance\n",
    "- Do the above (MLOps) on-prem, cloud-native, hybrid, etc."
   ]
  }
 ],
 "metadata": {
  "kernelspec": {
   "display_name": "Python 3.8.8 ('base')",
   "language": "python",
   "name": "python3"
  },
  "language_info": {
   "codemirror_mode": {
    "name": "ipython",
    "version": 3
   },
   "file_extension": ".py",
   "mimetype": "text/x-python",
   "name": "python",
   "nbconvert_exporter": "python",
   "pygments_lexer": "ipython3",
   "version": "3.8.8"
  },
  "orig_nbformat": 4,
  "vscode": {
   "interpreter": {
    "hash": "10b46b512231d90449c4dc0158114cef5d491287992b36bbfca0cd341091f68a"
   }
  }
 },
 "nbformat": 4,
 "nbformat_minor": 2
}
